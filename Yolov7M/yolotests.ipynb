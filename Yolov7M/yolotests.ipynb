{
 "cells": [
  {
   "cell_type": "code",
   "execution_count": 1,
   "metadata": {},
   "outputs": [
    {
     "name": "stdout",
     "output_type": "stream",
     "text": [
      "Tue Dec  5 16:42:40 2023       \n",
      "+---------------------------------------------------------------------------------------+\n",
      "| NVIDIA-SMI 536.40                 Driver Version: 536.40       CUDA Version: 12.2     |\n",
      "|-----------------------------------------+----------------------+----------------------+\n",
      "| GPU  Name                     TCC/WDDM  | Bus-Id        Disp.A | Volatile Uncorr. ECC |\n",
      "| Fan  Temp   Perf          Pwr:Usage/Cap |         Memory-Usage | GPU-Util  Compute M. |\n",
      "|                                         |                      |               MIG M. |\n",
      "|=========================================+======================+======================|\n",
      "|   0  NVIDIA GeForce RTX 3060      WDDM  | 00000000:01:00.0  On |                  N/A |\n",
      "|  0%   44C    P8              14W / 170W |   1090MiB / 12288MiB |     20%      Default |\n",
      "|                                         |                      |                  N/A |\n",
      "+-----------------------------------------+----------------------+----------------------+\n",
      "                                                                                         \n",
      "+---------------------------------------------------------------------------------------+\n",
      "| Processes:                                                                            |\n",
      "|  GPU   GI   CI        PID   Type   Process name                            GPU Memory |\n",
      "|        ID   ID                                                             Usage      |\n",
      "|=======================================================================================|\n",
      "|    0   N/A  N/A      3452    C+G   ...ell\\Dell Peripheral Manager\\DPM.exe    N/A      |\n",
      "|    0   N/A  N/A      3480    C+G   C:\\Windows\\explorer.exe                   N/A      |\n",
      "|    0   N/A  N/A     13836    C+G   ...nt.CBS_cw5n1h2txyewy\\SearchHost.exe    N/A      |\n",
      "|    0   N/A  N/A     13860    C+G   ...2txyewy\\StartMenuExperienceHost.exe    N/A      |\n",
      "|    0   N/A  N/A     16520    C+G   ...GeForce Experience\\NVIDIA Share.exe    N/A      |\n",
      "|    0   N/A  N/A     18004    C+G   ...CBS_cw5n1h2txyewy\\TextInputHost.exe    N/A      |\n",
      "|    0   N/A  N/A     18692    C+G   ...crosoft\\Edge\\Application\\msedge.exe    N/A      |\n",
      "|    0   N/A  N/A     19676    C+G   ...0_x64__8wekyb3d8bbwe\\HxAccounts.exe    N/A      |\n",
      "|    0   N/A  N/A     21528    C+G   ....0_x64__8wekyb3d8bbwe\\HxOutlook.exe    N/A      |\n",
      "|    0   N/A  N/A     23220    C+G   ...937_x64__8wekyb3d8bbwe\\ms-teams.exe    N/A      |\n",
      "|    0   N/A  N/A     23648    C+G   ...on\\119.0.2151.97\\msedgewebview2.exe    N/A      |\n",
      "|    0   N/A  N/A     24008    C+G   ...on\\119.0.2151.97\\msedgewebview2.exe    N/A      |\n",
      "|    0   N/A  N/A     25884    C+G   ...bs\\Common\\Client\\v1.2.0\\rsAppUI.exe    N/A      |\n",
      "|    0   N/A  N/A     27140    C+G   ...oogle\\Chrome\\Application\\chrome.exe    N/A      |\n",
      "|    0   N/A  N/A     27164    C+G   ...12.0_x64__8wekyb3d8bbwe\\GameBar.exe    N/A      |\n",
      "|    0   N/A  N/A     28328    C+G   ...5n1h2txyewy\\ShellExperienceHost.exe    N/A      |\n",
      "|    0   N/A  N/A     35264    C+G   ...siveControlPanel\\SystemSettings.exe    N/A      |\n",
      "|    0   N/A  N/A     35908    C+G   ...t.LockApp_cw5n1h2txyewy\\LockApp.exe    N/A      |\n",
      "|    0   N/A  N/A     37816    C+G   ...Programs\\Microsoft VS Code\\Code.exe    N/A      |\n",
      "|    0   N/A  N/A     45504    C+G   ...06.23.0_x64__8wekyb3d8bbwe\\Time.exe    N/A      |\n",
      "|    0   N/A  N/A     51036    C+G   ...ekyb3d8bbwe\\PhoneExperienceHost.exe    N/A      |\n",
      "+---------------------------------------------------------------------------------------+\n"
     ]
    }
   ],
   "source": [
    "!nvidia-smi"
   ]
  },
  {
   "cell_type": "code",
   "execution_count": 2,
   "metadata": {},
   "outputs": [
    {
     "name": "stdout",
     "output_type": "stream",
     "text": [
      " Volume in drive D is DATA\n",
      " Volume Serial Number is 1646-E442\n",
      "\n",
      " Directory of d:\\models\\10.Crack-Detection\\yolov7\n",
      "\n",
      "11/29/2023  05:01 PM    <DIR>          .\n",
      "11/30/2023  01:47 PM    <DIR>          ..\n",
      "11/23/2023  05:05 PM    <DIR>          cls\n",
      "11/29/2023  03:56 PM    <DIR>          det\n",
      "11/23/2023  05:05 PM               337 README.md\n",
      "12/05/2023  03:31 PM    <DIR>          seg\n",
      "11/29/2023  05:04 PM    <DIR>          yolo7\n",
      "12/05/2023  03:34 PM            18,439 yolotests.ipynb\n",
      "               2 File(s)         18,776 bytes\n",
      "               6 Dir(s)  1,534,737,321,984 bytes free\n"
     ]
    }
   ],
   "source": [
    "ls"
   ]
  },
  {
   "cell_type": "code",
   "execution_count": 3,
   "metadata": {},
   "outputs": [
    {
     "name": "stdout",
     "output_type": "stream",
     "text": [
      "d:\\models\\10.Crack-Detection\\yolov7\\seg\n"
     ]
    }
   ],
   "source": [
    "cd seg"
   ]
  },
  {
   "cell_type": "markdown",
   "metadata": {},
   "source": [
    "## Detection"
   ]
  },
  {
   "cell_type": "code",
   "execution_count": 4,
   "metadata": {},
   "outputs": [
    {
     "name": "stdout",
     "output_type": "stream",
     "text": [
      " Volume in drive D is DATA\n",
      " Volume Serial Number is 1646-E442\n",
      "\n",
      " Directory of d:\\models\\10.Crack-Detection\\yolov7\\seg\n",
      "\n",
      "12/05/2023  03:31 PM    <DIR>          .\n",
      "11/29/2023  05:01 PM    <DIR>          ..\n",
      "11/23/2023  05:17 PM    <DIR>          __pycache__\n",
      "11/23/2023  05:05 PM    <DIR>          classify\n",
      "11/30/2023  11:31 AM    <DIR>          data\n",
      "11/23/2023  05:05 PM            13,889 detect.py\n",
      "11/23/2023  05:15 PM           106,055 dog.jpeg\n",
      "11/23/2023  05:05 PM            29,088 export.py\n",
      "11/23/2023  05:05 PM    <DIR>          figure\n",
      "11/23/2023  05:05 PM             7,398 hubconf.py\n",
      "11/23/2023  05:05 PM            35,801 LICENSE\n",
      "11/23/2023  05:16 PM    <DIR>          models\n",
      "11/23/2023  05:05 PM             9,167 README.md\n",
      "11/23/2023  05:05 PM             1,181 requirements.txt\n",
      "11/23/2023  05:19 PM    <DIR>          runs\n",
      "12/05/2023  02:39 PM    <DIR>          segment\n",
      "11/23/2023  05:05 PM             1,790 setup.cfg\n",
      "11/23/2023  05:05 PM            34,042 train.py\n",
      "11/23/2023  05:16 PM    <DIR>          utils\n",
      "11/23/2023  05:05 PM            20,537 val.py\n",
      "12/05/2023  03:35 PM        75,587,165 yolov7.pt\n",
      "11/23/2023  05:14 PM        76,988,933 yolov7-seg.pt\n",
      "12/05/2023  03:31 PM        12,639,769 yolov7-tiny.pt\n",
      "              13 File(s)    165,474,815 bytes\n",
      "              10 Dir(s)  1,534,737,321,984 bytes free\n"
     ]
    }
   ],
   "source": [
    "ls"
   ]
  },
  {
   "cell_type": "code",
   "execution_count": 7,
   "metadata": {},
   "outputs": [
    {
     "name": "stdout",
     "output_type": "stream",
     "text": [
      "File yolov7.pt downloaded successfully!\n"
     ]
    }
   ],
   "source": [
    "import requests\n",
    "\n",
    "# URL to download the yolov7.pt file\n",
    "url = 'https://github.com/WongKinYiu/yolov7/releases/download/v0.1/yolov7.pt'\n",
    "\n",
    "# Path where you want to save the downloaded file\n",
    "save_path = './yolov7.pt'\n",
    "\n",
    "# Send an HTTP GET request to download the file\n",
    "response = requests.get(url)\n",
    "\n",
    "# Check if the request was successful (status code 200)\n",
    "if response.status_code == 200:\n",
    "    # Save the content to a file\n",
    "    with open(save_path, 'wb') as file:\n",
    "        file.write(response.content)\n",
    "    print('File yolov7.pt downloaded successfully!')\n",
    "else:\n",
    "    print('Failed to download the file.')\n"
   ]
  },
  {
   "cell_type": "code",
   "execution_count": 5,
   "metadata": {},
   "outputs": [
    {
     "name": "stdout",
     "output_type": "stream",
     "text": [
      "d:\\models\\10.Crack-Detection\\yolov7\\seg\\data\n"
     ]
    }
   ],
   "source": [
    "cd data"
   ]
  },
  {
   "cell_type": "code",
   "execution_count": 9,
   "metadata": {},
   "outputs": [
    {
     "name": "stdout",
     "output_type": "stream",
     "text": [
      " Volume in drive D is DATA\n",
      " Volume Serial Number is 1646-E442\n",
      "\n",
      " Directory of d:\\models\\10.Crack-Detection\\yolov7\\seg\\data\n",
      "\n",
      "11/30/2023  11:31 AM    <DIR>          .\n",
      "12/05/2023  03:31 PM    <DIR>          ..\n",
      "11/23/2023  05:34 PM       113,840,032 cars1.mp4\n",
      "11/30/2023  10:55 AM       169,670,286 cars1v2160p.mp4\n",
      "11/23/2023  05:35 PM        59,138,752 cars2.mp4\n",
      "11/23/2023  05:34 PM        80,708,776 cars3.mp4\n",
      "11/30/2023  10:59 AM        42,860,878 cars60f.mp4\n",
      "11/23/2023  05:05 PM             2,611 coco.yaml\n",
      "11/23/2023  06:15 PM           778,847 frame_0046.jpg\n",
      "11/23/2023  06:15 PM           793,292 frame_0124.jpg\n",
      "11/23/2023  06:15 PM           796,394 frame_0299.jpg\n",
      "11/23/2023  06:15 PM           792,066 frame_0418.jpg\n",
      "11/23/2023  05:05 PM    <DIR>          hyps\n",
      "11/22/2023  09:05 AM         2,848,208 s5s.mp4\n",
      "11/23/2023  05:05 PM    <DIR>          scripts\n",
      "              11 File(s)    472,230,142 bytes\n",
      "               4 Dir(s)  1,535,292,813,312 bytes free\n"
     ]
    },
    {
     "name": "stderr",
     "output_type": "stream",
     "text": [
      "'DOSKEY' is not recognized as an internal or external command,\n",
      "operable program or batch file.\n"
     ]
    }
   ],
   "source": [
    "ls"
   ]
  },
  {
   "cell_type": "code",
   "execution_count": 10,
   "metadata": {},
   "outputs": [
    {
     "name": "stderr",
     "output_type": "stream",
     "text": [
      "'DOSKEY' is not recognized as an internal or external command,\n",
      "operable program or batch file.\n",
      "'wget' is not recognized as an internal or external command,\n",
      "operable program or batch file.\n",
      "'id' is not recognized as an internal or external command,\n",
      "operable program or batch file.\n"
     ]
    }
   ],
   "source": [
    "!wget 'https://docs.google.com/uc?export=download&id=1sPYHUcIW48sJ67kh5MHOI3GfoXlYNOfJ' -O dog.jpeg"
   ]
  },
  {
   "cell_type": "code",
   "execution_count": 6,
   "metadata": {},
   "outputs": [
    {
     "name": "stdout",
     "output_type": "stream",
     "text": [
      " Volume in drive D is DATA\n",
      " Volume Serial Number is 1646-E442\n",
      "\n",
      " Directory of d:\\models\\10.Crack-Detection\\yolov7\\seg\\data\n",
      "\n",
      "11/30/2023  11:31 AM    <DIR>          .\n",
      "12/05/2023  03:31 PM    <DIR>          ..\n",
      "11/23/2023  05:34 PM       113,840,032 cars1.mp4\n",
      "11/30/2023  10:55 AM       169,670,286 cars1v2160p.mp4\n",
      "11/23/2023  05:35 PM        59,138,752 cars2.mp4\n",
      "11/23/2023  05:34 PM        80,708,776 cars3.mp4\n",
      "11/30/2023  10:59 AM        42,860,878 cars60f.mp4\n",
      "11/23/2023  05:05 PM             2,611 coco.yaml\n",
      "11/23/2023  06:15 PM           778,847 frame_0046.jpg\n",
      "11/23/2023  06:15 PM           793,292 frame_0124.jpg\n",
      "11/23/2023  06:15 PM           796,394 frame_0299.jpg\n",
      "11/23/2023  06:15 PM           792,066 frame_0418.jpg\n",
      "11/23/2023  05:05 PM    <DIR>          hyps\n",
      "11/22/2023  09:05 AM         2,848,208 s5s.mp4\n",
      "11/23/2023  05:05 PM    <DIR>          scripts\n",
      "              11 File(s)    472,230,142 bytes\n",
      "               4 Dir(s)  1,534,737,321,984 bytes free\n"
     ]
    }
   ],
   "source": [
    "ls"
   ]
  },
  {
   "cell_type": "code",
   "execution_count": 12,
   "metadata": {},
   "outputs": [
    {
     "name": "stdout",
     "output_type": "stream",
     "text": [
      " Volume in drive D is DATA\n",
      " Volume Serial Number is 1646-E442\n",
      "\n",
      " Directory of d:\\models\\10.Crack-Detection\\yolov7\\yolo7\n",
      "\n",
      "11/29/2023  05:04 PM    <DIR>          .\n",
      "11/29/2023  05:01 PM    <DIR>          ..\n",
      "11/29/2023  05:01 PM             4,325 .gitignore\n",
      "11/29/2023  05:01 PM    <DIR>          cfg\n",
      "11/29/2023  05:02 PM    <DIR>          data\n",
      "11/29/2023  05:01 PM    <DIR>          deploy\n",
      "11/29/2023  05:01 PM             9,523 detect.py\n",
      "11/23/2023  05:15 PM           106,055 dog.jpeg\n",
      "11/29/2023  05:01 PM             9,367 export.py\n",
      "11/29/2023  05:01 PM    <DIR>          figure\n",
      "11/29/2023  05:01 PM             3,680 hubconf.py\n",
      "11/29/2023  05:01 PM    <DIR>          inference\n",
      "11/29/2023  05:01 PM            35,823 LICENSE.md\n",
      "11/29/2023  05:03 PM    <DIR>          models\n",
      "11/29/2023  05:01 PM    <DIR>          paper\n",
      "11/29/2023  05:01 PM            15,056 README.md\n",
      "11/29/2023  05:01 PM               997 requirements.txt\n",
      "11/29/2023  05:03 PM    <DIR>          runs\n",
      "11/29/2023  05:01 PM    <DIR>          scripts\n",
      "11/29/2023  05:01 PM            17,634 test.py\n",
      "11/29/2023  05:01 PM    <DIR>          tools\n",
      "11/29/2023  05:12 PM       148,069,626 traced_model.pt\n",
      "11/29/2023  05:01 PM            38,738 train.py\n",
      "11/29/2023  05:01 PM            38,134 train_aux.py\n",
      "11/29/2023  05:03 PM    <DIR>          utils\n",
      "11/29/2023  05:04 PM        75,587,165 yolov7.pt\n",
      "              13 File(s)    223,936,123 bytes\n",
      "              13 Dir(s)  1,534,737,321,984 bytes free\n"
     ]
    }
   ],
   "source": [
    "ls"
   ]
  },
  {
   "cell_type": "code",
   "execution_count": 15,
   "metadata": {},
   "outputs": [
    {
     "name": "stdout",
     "output_type": "stream",
     "text": [
      " Volume in drive D is DATA\n",
      " Volume Serial Number is 1646-E442\n",
      "\n",
      " Directory of d:\\models\\10.Crack-Detection\\yolov7\\seg\n",
      "\n",
      "12/05/2023  03:31 PM    <DIR>          .\n",
      "11/29/2023  05:01 PM    <DIR>          ..\n",
      "11/23/2023  05:17 PM    <DIR>          __pycache__\n",
      "11/23/2023  05:05 PM    <DIR>          classify\n",
      "11/30/2023  11:31 AM    <DIR>          data\n",
      "11/23/2023  05:05 PM            13,889 detect.py\n",
      "11/23/2023  05:15 PM           106,055 dog.jpeg\n",
      "11/23/2023  05:05 PM            29,088 export.py\n",
      "11/23/2023  05:05 PM    <DIR>          figure\n",
      "11/23/2023  05:05 PM             7,398 hubconf.py\n",
      "11/23/2023  05:05 PM            35,801 LICENSE\n",
      "11/23/2023  05:16 PM    <DIR>          models\n",
      "11/23/2023  05:05 PM             9,167 README.md\n",
      "11/23/2023  05:05 PM             1,181 requirements.txt\n",
      "11/23/2023  05:19 PM    <DIR>          runs\n",
      "12/05/2023  02:39 PM    <DIR>          segment\n",
      "11/23/2023  05:05 PM             1,790 setup.cfg\n",
      "11/23/2023  05:05 PM            34,042 train.py\n",
      "11/23/2023  05:16 PM    <DIR>          utils\n",
      "11/23/2023  05:05 PM            20,537 val.py\n",
      "12/05/2023  03:35 PM        75,587,165 yolov7.pt\n",
      "11/23/2023  05:14 PM        76,988,933 yolov7-seg.pt\n",
      "12/05/2023  03:31 PM        12,639,769 yolov7-tiny.pt\n",
      "              13 File(s)    165,474,815 bytes\n",
      "              10 Dir(s)  1,535,292,813,312 bytes free\n"
     ]
    },
    {
     "name": "stderr",
     "output_type": "stream",
     "text": [
      "'DOSKEY' is not recognized as an internal or external command,\n",
      "operable program or batch file.\n"
     ]
    }
   ],
   "source": [
    "ls"
   ]
  },
  {
   "cell_type": "code",
   "execution_count": 16,
   "metadata": {},
   "outputs": [
    {
     "name": "stderr",
     "output_type": "stream",
     "text": [
      "'DOSKEY' is not recognized as an internal or external command,\n",
      "operable program or batch file.\n",
      "'git' is not recognized as an internal or external command,\n",
      "operable program or batch file.\n"
     ]
    }
   ],
   "source": [
    "!git clone https://github.com/WongKinYiu/yolov7"
   ]
  },
  {
   "cell_type": "code",
   "execution_count": 17,
   "metadata": {},
   "outputs": [
    {
     "name": "stdout",
     "output_type": "stream",
     "text": [
      "[WinError 2] The system cannot find the file specified: 'yolo7'\n",
      "d:\\models\\10.Crack-Detection\\yolov7\\seg\n"
     ]
    }
   ],
   "source": [
    "cd yolo7"
   ]
  },
  {
   "cell_type": "code",
   "execution_count": 15,
   "metadata": {},
   "outputs": [
    {
     "name": "stdout",
     "output_type": "stream",
     "text": [
      "Namespace(agnostic_nms=False, augment=False, classes=None, conf_thres=0.25, device='', exist_ok=False, img_size=640, iou_thres=0.45, name='exp', no_trace=False, nosave=False, project='runs/detect', save_conf=False, save_txt=False, source='dog.jpeg', update=False, view_img=False, weights=['yolov7.pt'])\n",
      "Fusing layers... \n",
      "RepConv.fuse_repvgg_block\n",
      "RepConv.fuse_repvgg_block\n",
      "RepConv.fuse_repvgg_block\n",
      " Convert model to Traced-model... \n",
      " traced_script_module saved! \n",
      " model is traced! \n",
      "\n",
      "1 person, 1 car, 1 dog, 1 backpack, Done. (202.5ms) Inference, (0.0ms) NMS\n",
      " The image with the result is saved in: runs\\detect\\exp6\\dog.jpeg\n",
      "Done. (0.223s)\n"
     ]
    },
    {
     "name": "stderr",
     "output_type": "stream",
     "text": [
      "YOLOR  v0.1-128-ga207844 torch 2.1.1+cpu CPU\n",
      "\n",
      "d:\\Programs\\anaconda3\\envs\\yolo5p8\\lib\\site-packages\\torch\\functional.py:504: UserWarning: torch.meshgrid: in an upcoming release, it will be required to pass the indexing argument. (Triggered internally at C:\\actions-runner\\_work\\pytorch\\pytorch\\builder\\windows\\pytorch\\aten\\src\\ATen\\native\\TensorShape.cpp:3527.)\n",
      "  return _VF.meshgrid(tensors, **kwargs)  # type: ignore[attr-defined]\n",
      "Model Summary: 306 layers, 36905341 parameters, 6652669 gradients, 104.5 GFLOPS\n"
     ]
    }
   ],
   "source": [
    "!python detect.py --source dog.jpeg --weights yolov7.pt"
   ]
  },
  {
   "cell_type": "code",
   "execution_count": 16,
   "metadata": {},
   "outputs": [
    {
     "name": "stdout",
     "output_type": "stream",
     "text": [
      "Namespace(agnostic_nms=False, augment=False, classes=None, conf_thres=0.25, device='', exist_ok=False, img_size=640, iou_thres=0.45, name='cars', no_trace=False, nosave=False, project='runs/detect', save_conf=False, save_txt=False, source='data/frame_0046.jpg', update=False, view_img=False, weights='yolov7.pt')\n",
      "Fusing layers... \n",
      "RepConv.fuse_repvgg_block\n",
      "RepConv.fuse_repvgg_block\n",
      "RepConv.fuse_repvgg_block\n",
      " Convert model to Traced-model... \n",
      " traced_script_module saved! \n",
      " model is traced! \n",
      "\n",
      "6 persons, 9 cars, 1 airplane, Done. (212.3ms) Inference, (1.0ms) NMS\n",
      " The image with the result is saved in: runs\\detect\\cars\\frame_0046.jpg\n",
      "Done. (0.270s)\n"
     ]
    },
    {
     "name": "stderr",
     "output_type": "stream",
     "text": [
      "YOLOR  v0.1-128-ga207844 torch 2.1.1+cpu CPU\n",
      "\n",
      "d:\\Programs\\anaconda3\\envs\\yolo5p8\\lib\\site-packages\\torch\\functional.py:504: UserWarning: torch.meshgrid: in an upcoming release, it will be required to pass the indexing argument. (Triggered internally at C:\\actions-runner\\_work\\pytorch\\pytorch\\builder\\windows\\pytorch\\aten\\src\\ATen\\native\\TensorShape.cpp:3527.)\n",
      "  return _VF.meshgrid(tensors, **kwargs)  # type: ignore[attr-defined]\n",
      "Model Summary: 306 layers, 36905341 parameters, 6652669 gradients, 104.5 GFLOPS\n"
     ]
    }
   ],
   "source": [
    "!python detect.py --source data/frame_0046.jpg --name cars"
   ]
  },
  {
   "cell_type": "code",
   "execution_count": 17,
   "metadata": {},
   "outputs": [
    {
     "name": "stdout",
     "output_type": "stream",
     "text": [
      "Namespace(agnostic_nms=False, augment=False, classes=None, conf_thres=0.25, device='', exist_ok=False, img_size=640, iou_thres=0.45, name='cars', no_trace=False, nosave=False, project='runs/detect', save_conf=False, save_txt=False, source='data/frame_0299.jpg', update=False, view_img=False, weights='yolov7.pt')\n",
      "Fusing layers... \n",
      "RepConv.fuse_repvgg_block\n",
      "RepConv.fuse_repvgg_block\n",
      "RepConv.fuse_repvgg_block\n",
      " Convert model to Traced-model... \n",
      " traced_script_module saved! \n",
      " model is traced! \n",
      "\n",
      "6 persons, 11 cars, 1 truck, Done. (222.8ms) Inference, (1.0ms) NMS\n",
      " The image with the result is saved in: runs\\detect\\cars5\\frame_0299.jpg\n",
      "Done. (0.263s)\n"
     ]
    },
    {
     "name": "stderr",
     "output_type": "stream",
     "text": [
      "YOLOR  v0.1-128-ga207844 torch 2.1.1+cpu CPU\n",
      "\n",
      "d:\\Programs\\anaconda3\\envs\\yolo5p8\\lib\\site-packages\\torch\\functional.py:504: UserWarning: torch.meshgrid: in an upcoming release, it will be required to pass the indexing argument. (Triggered internally at C:\\actions-runner\\_work\\pytorch\\pytorch\\builder\\windows\\pytorch\\aten\\src\\ATen\\native\\TensorShape.cpp:3527.)\n",
      "  return _VF.meshgrid(tensors, **kwargs)  # type: ignore[attr-defined]\n",
      "Model Summary: 306 layers, 36905341 parameters, 6652669 gradients, 104.5 GFLOPS\n"
     ]
    }
   ],
   "source": [
    "!python detect.py --source data/frame_0299.jpg --name cars"
   ]
  },
  {
   "cell_type": "markdown",
   "metadata": {},
   "source": [
    "### Seg optimization"
   ]
  },
  {
   "cell_type": "markdown",
   "metadata": {},
   "source": []
  },
  {
   "cell_type": "markdown",
   "metadata": {},
   "source": [
    "## Tiny model test"
   ]
  },
  {
   "cell_type": "code",
   "execution_count": 18,
   "metadata": {},
   "outputs": [
    {
     "name": "stdout",
     "output_type": "stream",
     "text": [
      " Volume in drive D is DATA\n",
      " Volume Serial Number is 1646-E442\n",
      "\n",
      " Directory of d:\\models\\10.Crack-Detection\\yolov7\\yolo7\n",
      "\n",
      "11/29/2023  05:04 PM    <DIR>          .\n",
      "11/29/2023  05:01 PM    <DIR>          ..\n",
      "11/29/2023  05:01 PM             4,325 .gitignore\n",
      "11/29/2023  05:01 PM    <DIR>          cfg\n",
      "11/29/2023  05:02 PM    <DIR>          data\n",
      "11/29/2023  05:01 PM    <DIR>          deploy\n",
      "11/29/2023  05:01 PM             9,523 detect.py\n",
      "11/23/2023  05:15 PM           106,055 dog.jpeg\n",
      "11/29/2023  05:01 PM             9,367 export.py\n",
      "11/29/2023  05:01 PM    <DIR>          figure\n",
      "11/29/2023  05:01 PM             3,680 hubconf.py\n",
      "11/29/2023  05:01 PM    <DIR>          inference\n",
      "11/29/2023  05:01 PM            35,823 LICENSE.md\n",
      "11/29/2023  05:03 PM    <DIR>          models\n",
      "11/29/2023  05:01 PM    <DIR>          paper\n",
      "11/29/2023  05:01 PM            15,056 README.md\n",
      "11/29/2023  05:01 PM               997 requirements.txt\n",
      "11/29/2023  05:03 PM    <DIR>          runs\n",
      "11/29/2023  05:01 PM    <DIR>          scripts\n",
      "11/29/2023  05:01 PM            17,634 test.py\n",
      "11/29/2023  05:01 PM    <DIR>          tools\n",
      "12/05/2023  04:50 PM       148,069,626 traced_model.pt\n",
      "11/29/2023  05:01 PM            38,738 train.py\n",
      "11/29/2023  05:01 PM            38,134 train_aux.py\n",
      "11/29/2023  05:03 PM    <DIR>          utils\n",
      "11/29/2023  05:04 PM        75,587,165 yolov7.pt\n",
      "              13 File(s)    223,936,123 bytes\n",
      "              13 Dir(s)  1,534,735,233,024 bytes free\n"
     ]
    }
   ],
   "source": [
    "ls"
   ]
  },
  {
   "cell_type": "code",
   "execution_count": 19,
   "metadata": {},
   "outputs": [
    {
     "name": "stdout",
     "output_type": "stream",
     "text": [
      "Namespace(agnostic_nms=False, augment=False, classes=None, conf_thres=0.25, device='', exist_ok=False, img_size=640, iou_thres=0.45, name='cars', no_trace=False, nosave=False, project='runs/detect', save_conf=False, save_txt=False, source='data/frame_0299.jpg', update=False, view_img=False, weights=['yolov7-tiny.pt'])\n",
      "Fusing layers... \n",
      " Convert model to Traced-model... \n",
      " traced_script_module saved! \n",
      " model is traced! \n",
      "\n",
      "1 person, 11 cars, 2 buss, 1 umbrella, Done. (91.1ms) Inference, (1.0ms) NMS\n",
      " The image with the result is saved in: runs\\detect\\cars6\\frame_0299.jpg\n",
      "Done. (0.140s)\n"
     ]
    },
    {
     "name": "stderr",
     "output_type": "stream",
     "text": [
      "YOLOR  v0.1-128-ga207844 torch 2.1.1+cpu CPU\n",
      "\n",
      "d:\\Programs\\anaconda3\\envs\\yolo5p8\\lib\\site-packages\\torch\\functional.py:504: UserWarning: torch.meshgrid: in an upcoming release, it will be required to pass the indexing argument. (Triggered internally at C:\\actions-runner\\_work\\pytorch\\pytorch\\builder\\windows\\pytorch\\aten\\src\\ATen\\native\\TensorShape.cpp:3527.)\n",
      "  return _VF.meshgrid(tensors, **kwargs)  # type: ignore[attr-defined]\n",
      "Model Summary: 200 layers, 6219709 parameters, 229245 gradients, 13.7 GFLOPS\n"
     ]
    }
   ],
   "source": [
    "!python detect.py --source data/frame_0299.jpg --name cars --weights yolov7-tiny.pt"
   ]
  },
  {
   "cell_type": "code",
   "execution_count": 20,
   "metadata": {},
   "outputs": [
    {
     "name": "stdout",
     "output_type": "stream",
     "text": [
      "Namespace(agnostic_nms=False, augment=False, classes=None, conf_thres=0.25, device='', exist_ok=False, img_size=640, iou_thres=0.45, name='carsVideo', no_trace=False, nosave=False, project='runs/detect', save_conf=False, save_txt=False, source='data/s5s.mp4', update=False, view_img=False, weights=['yolov7-tiny.pt'])\n",
      "Fusing layers... \n",
      " Convert model to Traced-model... \n",
      " traced_script_module saved! \n",
      " model is traced! \n",
      "\n",
      "video 1/1 (1/171) d:\\models\\10.Crack-Detection\\yolov7\\yolo7\\data\\s5s.mp4: 3 cars, 1 truck, 1 traffic light, 1 bench, Done. (83.5ms) Inference, (1.0ms) NMS\n",
      "video 1/1 (2/171) d:\\models\\10.Crack-Detection\\yolov7\\yolo7\\data\\s5s.mp4: 3 cars, 1 truck, 1 traffic light, 1 bench, Done. (48.7ms) Inference, (1.0ms) NMS\n",
      "video 1/1 (3/171) d:\\models\\10.Crack-Detection\\yolov7\\yolo7\\data\\s5s.mp4: 2 cars, 1 truck, 1 traffic light, 1 bench, Done. (50.0ms) Inference, (0.0ms) NMS\n",
      "video 1/1 (4/171) d:\\models\\10.Crack-Detection\\yolov7\\yolo7\\data\\s5s.mp4: 2 cars, 1 truck, 1 traffic light, 2 benchs, Done. (48.0ms) Inference, (1.0ms) NMS\n",
      "video 1/1 (5/171) d:\\models\\10.Crack-Detection\\yolov7\\yolo7\\data\\s5s.mp4: 2 cars, 1 truck, 1 traffic light, 1 bench, Done. (49.5ms) Inference, (0.0ms) NMS\n",
      "video 1/1 (6/171) d:\\models\\10.Crack-Detection\\yolov7\\yolo7\\data\\s5s.mp4: 2 cars, 2 trucks, 1 traffic light, 1 bench, Done. (51.0ms) Inference, (1.0ms) NMS\n",
      "video 1/1 (7/171) d:\\models\\10.Crack-Detection\\yolov7\\yolo7\\data\\s5s.mp4: 2 cars, 2 trucks, 1 bench, Done. (50.0ms) Inference, (1.0ms) NMS\n",
      "video 1/1 (8/171) d:\\models\\10.Crack-Detection\\yolov7\\yolo7\\data\\s5s.mp4: 1 car, 2 trucks, 1 traffic light, 1 bench, Done. (48.5ms) Inference, (0.0ms) NMS\n",
      "video 1/1 (9/171) d:\\models\\10.Crack-Detection\\yolov7\\yolo7\\data\\s5s.mp4: 1 car, 2 trucks, 1 bench, Done. (48.0ms) Inference, (0.0ms) NMS\n",
      "video 1/1 (10/171) d:\\models\\10.Crack-Detection\\yolov7\\yolo7\\data\\s5s.mp4: 1 car, 2 trucks, 1 bench, Done. (50.0ms) Inference, (1.0ms) NMS\n",
      "video 1/1 (11/171) d:\\models\\10.Crack-Detection\\yolov7\\yolo7\\data\\s5s.mp4: 1 car, 2 trucks, 1 bench, Done. (48.5ms) Inference, (0.0ms) NMS\n",
      "video 1/1 (12/171) d:\\models\\10.Crack-Detection\\yolov7\\yolo7\\data\\s5s.mp4: 1 car, 2 trucks, 1 traffic light, 1 bench, Done. (53.0ms) Inference, (0.0ms) NMS\n",
      "video 1/1 (13/171) d:\\models\\10.Crack-Detection\\yolov7\\yolo7\\data\\s5s.mp4: 1 car, 2 trucks, 1 traffic light, 1 bench, Done. (50.0ms) Inference, (1.0ms) NMS\n",
      "video 1/1 (14/171) d:\\models\\10.Crack-Detection\\yolov7\\yolo7\\data\\s5s.mp4: 1 car, 2 trucks, 1 bench, Done. (53.6ms) Inference, (0.0ms) NMS\n",
      "video 1/1 (15/171) d:\\models\\10.Crack-Detection\\yolov7\\yolo7\\data\\s5s.mp4: 1 car, 2 trucks, 1 bench, Done. (48.3ms) Inference, (0.0ms) NMS\n",
      "video 1/1 (16/171) d:\\models\\10.Crack-Detection\\yolov7\\yolo7\\data\\s5s.mp4: 1 car, 2 trucks, 1 bench, Done. (48.5ms) Inference, (1.0ms) NMS\n",
      "video 1/1 (17/171) d:\\models\\10.Crack-Detection\\yolov7\\yolo7\\data\\s5s.mp4: 1 car, 1 truck, 1 bench, Done. (55.1ms) Inference, (1.0ms) NMS\n",
      "video 1/1 (18/171) d:\\models\\10.Crack-Detection\\yolov7\\yolo7\\data\\s5s.mp4: 1 car, 2 trucks, 1 bench, Done. (49.4ms) Inference, (1.0ms) NMS\n",
      "video 1/1 (19/171) d:\\models\\10.Crack-Detection\\yolov7\\yolo7\\data\\s5s.mp4: 1 car, 1 truck, 1 bench, Done. (50.5ms) Inference, (0.0ms) NMS\n",
      "video 1/1 (20/171) d:\\models\\10.Crack-Detection\\yolov7\\yolo7\\data\\s5s.mp4: 1 car, 2 trucks, 1 bench, Done. (49.5ms) Inference, (0.0ms) NMS\n",
      "video 1/1 (21/171) d:\\models\\10.Crack-Detection\\yolov7\\yolo7\\data\\s5s.mp4: 3 cars, 2 trucks, 1 bench, Done. (52.5ms) Inference, (1.0ms) NMS\n",
      "video 1/1 (22/171) d:\\models\\10.Crack-Detection\\yolov7\\yolo7\\data\\s5s.mp4: 1 car, 2 trucks, 1 bench, Done. (49.0ms) Inference, (0.0ms) NMS\n",
      "video 1/1 (23/171) d:\\models\\10.Crack-Detection\\yolov7\\yolo7\\data\\s5s.mp4: 1 car, 2 trucks, 1 bench, Done. (56.4ms) Inference, (0.0ms) NMS\n",
      "video 1/1 (24/171) d:\\models\\10.Crack-Detection\\yolov7\\yolo7\\data\\s5s.mp4: 2 cars, 2 trucks, 1 bench, Done. (50.0ms) Inference, (1.0ms) NMS\n",
      "video 1/1 (25/171) d:\\models\\10.Crack-Detection\\yolov7\\yolo7\\data\\s5s.mp4: 1 car, 2 trucks, 1 bench, Done. (50.0ms) Inference, (1.0ms) NMS\n",
      "video 1/1 (26/171) d:\\models\\10.Crack-Detection\\yolov7\\yolo7\\data\\s5s.mp4: 2 cars, 2 trucks, 1 bench, Done. (50.4ms) Inference, (0.0ms) NMS\n",
      "video 1/1 (27/171) d:\\models\\10.Crack-Detection\\yolov7\\yolo7\\data\\s5s.mp4: 2 cars, 3 trucks, 1 bench, Done. (53.0ms) Inference, (0.0ms) NMS\n",
      "video 1/1 (28/171) d:\\models\\10.Crack-Detection\\yolov7\\yolo7\\data\\s5s.mp4: 2 cars, 2 trucks, 1 bench, Done. (50.4ms) Inference, (1.0ms) NMS\n",
      "video 1/1 (29/171) d:\\models\\10.Crack-Detection\\yolov7\\yolo7\\data\\s5s.mp4: 3 cars, 2 trucks, 1 bench, Done. (47.5ms) Inference, (1.0ms) NMS\n",
      "video 1/1 (30/171) d:\\models\\10.Crack-Detection\\yolov7\\yolo7\\data\\s5s.mp4: 2 cars, 2 trucks, 1 bench, Done. (48.4ms) Inference, (0.0ms) NMS\n",
      "video 1/1 (31/171) d:\\models\\10.Crack-Detection\\yolov7\\yolo7\\data\\s5s.mp4: 2 cars, 2 trucks, 1 bench, Done. (46.1ms) Inference, (2.0ms) NMS\n",
      "video 1/1 (32/171) d:\\models\\10.Crack-Detection\\yolov7\\yolo7\\data\\s5s.mp4: 2 cars, 1 truck, 1 bench, Done. (53.7ms) Inference, (1.0ms) NMS\n",
      "video 1/1 (33/171) d:\\models\\10.Crack-Detection\\yolov7\\yolo7\\data\\s5s.mp4: 2 cars, 1 bench, Done. (51.0ms) Inference, (0.0ms) NMS\n",
      "video 1/1 (34/171) d:\\models\\10.Crack-Detection\\yolov7\\yolo7\\data\\s5s.mp4: 2 cars, 1 bench, Done. (49.0ms) Inference, (1.0ms) NMS\n",
      "video 1/1 (35/171) d:\\models\\10.Crack-Detection\\yolov7\\yolo7\\data\\s5s.mp4: 2 cars, 1 truck, 1 bench, Done. (53.5ms) Inference, (0.0ms) NMS\n",
      "video 1/1 (36/171) d:\\models\\10.Crack-Detection\\yolov7\\yolo7\\data\\s5s.mp4: 3 cars, 1 bench, Done. (52.0ms) Inference, (1.0ms) NMS\n",
      "video 1/1 (37/171) d:\\models\\10.Crack-Detection\\yolov7\\yolo7\\data\\s5s.mp4: 3 cars, 1 bench, Done. (49.9ms) Inference, (0.0ms) NMS\n",
      "video 1/1 (38/171) d:\\models\\10.Crack-Detection\\yolov7\\yolo7\\data\\s5s.mp4: 3 cars, 1 bench, Done. (49.5ms) Inference, (1.0ms) NMS\n",
      "video 1/1 (39/171) d:\\models\\10.Crack-Detection\\yolov7\\yolo7\\data\\s5s.mp4: 3 cars, 1 bench, Done. (49.0ms) Inference, (1.0ms) NMS\n",
      "video 1/1 (40/171) d:\\models\\10.Crack-Detection\\yolov7\\yolo7\\data\\s5s.mp4: 3 cars, 1 bench, Done. (49.6ms) Inference, (1.0ms) NMS\n",
      "video 1/1 (41/171) d:\\models\\10.Crack-Detection\\yolov7\\yolo7\\data\\s5s.mp4: 4 cars, 1 bench, Done. (51.2ms) Inference, (0.0ms) NMS\n",
      "video 1/1 (42/171) d:\\models\\10.Crack-Detection\\yolov7\\yolo7\\data\\s5s.mp4: 3 cars, 1 bench, Done. (52.0ms) Inference, (0.0ms) NMS\n",
      "video 1/1 (43/171) d:\\models\\10.Crack-Detection\\yolov7\\yolo7\\data\\s5s.mp4: 2 cars, 1 bench, Done. (48.0ms) Inference, (0.0ms) NMS\n",
      "video 1/1 (44/171) d:\\models\\10.Crack-Detection\\yolov7\\yolo7\\data\\s5s.mp4: 2 cars, 1 bench, Done. (52.5ms) Inference, (0.0ms) NMS\n",
      "video 1/1 (45/171) d:\\models\\10.Crack-Detection\\yolov7\\yolo7\\data\\s5s.mp4: 2 cars, 1 bench, Done. (53.0ms) Inference, (1.0ms) NMS\n",
      "video 1/1 (46/171) d:\\models\\10.Crack-Detection\\yolov7\\yolo7\\data\\s5s.mp4: 2 cars, 1 bench, Done. (49.7ms) Inference, (0.0ms) NMS\n",
      "video 1/1 (47/171) d:\\models\\10.Crack-Detection\\yolov7\\yolo7\\data\\s5s.mp4: 2 cars, 1 bus, 1 bench, Done. (54.5ms) Inference, (1.0ms) NMS\n",
      "video 1/1 (48/171) d:\\models\\10.Crack-Detection\\yolov7\\yolo7\\data\\s5s.mp4: 3 cars, 1 bench, Done. (50.0ms) Inference, (0.0ms) NMS\n",
      "video 1/1 (49/171) d:\\models\\10.Crack-Detection\\yolov7\\yolo7\\data\\s5s.mp4: 2 cars, 1 bus, 1 bench, Done. (54.0ms) Inference, (0.0ms) NMS\n",
      "video 1/1 (50/171) d:\\models\\10.Crack-Detection\\yolov7\\yolo7\\data\\s5s.mp4: 2 cars, 1 bench, Done. (48.5ms) Inference, (1.0ms) NMS\n",
      "video 1/1 (51/171) d:\\models\\10.Crack-Detection\\yolov7\\yolo7\\data\\s5s.mp4: 2 cars, 1 bus, 1 bench, Done. (54.0ms) Inference, (0.0ms) NMS\n",
      "video 1/1 (52/171) d:\\models\\10.Crack-Detection\\yolov7\\yolo7\\data\\s5s.mp4: 2 cars, 2 buss, 1 traffic light, 1 bench, Done. (52.0ms) Inference, (0.0ms) NMS\n",
      "video 1/1 (53/171) d:\\models\\10.Crack-Detection\\yolov7\\yolo7\\data\\s5s.mp4: 2 cars, 2 buss, 1 bench, Done. (47.5ms) Inference, (1.0ms) NMS\n",
      "video 1/1 (54/171) d:\\models\\10.Crack-Detection\\yolov7\\yolo7\\data\\s5s.mp4: 2 cars, 1 bus, 1 bench, Done. (52.0ms) Inference, (0.0ms) NMS\n",
      "video 1/1 (55/171) d:\\models\\10.Crack-Detection\\yolov7\\yolo7\\data\\s5s.mp4: 2 cars, 1 bus, 1 bench, Done. (49.0ms) Inference, (0.0ms) NMS\n",
      "video 1/1 (56/171) d:\\models\\10.Crack-Detection\\yolov7\\yolo7\\data\\s5s.mp4: 2 cars, 2 buss, 2 benchs, Done. (56.5ms) Inference, (0.0ms) NMS\n",
      "video 1/1 (57/171) d:\\models\\10.Crack-Detection\\yolov7\\yolo7\\data\\s5s.mp4: 2 cars, 3 buss, 2 benchs, Done. (53.0ms) Inference, (0.0ms) NMS\n",
      "video 1/1 (58/171) d:\\models\\10.Crack-Detection\\yolov7\\yolo7\\data\\s5s.mp4: 2 cars, 3 buss, 1 traffic light, 2 benchs, Done. (51.4ms) Inference, (1.0ms) NMS\n",
      "video 1/1 (59/171) d:\\models\\10.Crack-Detection\\yolov7\\yolo7\\data\\s5s.mp4: 2 cars, 1 bus, 2 benchs, Done. (50.8ms) Inference, (0.0ms) NMS\n",
      "video 1/1 (60/171) d:\\models\\10.Crack-Detection\\yolov7\\yolo7\\data\\s5s.mp4: 3 cars, 1 traffic light, 2 benchs, Done. (50.0ms) Inference, (0.0ms) NMS\n",
      "video 1/1 (61/171) d:\\models\\10.Crack-Detection\\yolov7\\yolo7\\data\\s5s.mp4: 3 cars, 1 traffic light, 1 bench, Done. (49.5ms) Inference, (0.0ms) NMS\n",
      "video 1/1 (62/171) d:\\models\\10.Crack-Detection\\yolov7\\yolo7\\data\\s5s.mp4: 4 cars, 1 bench, Done. (47.0ms) Inference, (1.0ms) NMS\n",
      "video 1/1 (63/171) d:\\models\\10.Crack-Detection\\yolov7\\yolo7\\data\\s5s.mp4: 3 cars, 1 bench, Done. (48.0ms) Inference, (1.0ms) NMS\n",
      "video 1/1 (64/171) d:\\models\\10.Crack-Detection\\yolov7\\yolo7\\data\\s5s.mp4: 4 cars, 1 bench, Done. (52.0ms) Inference, (0.0ms) NMS\n",
      "video 1/1 (65/171) d:\\models\\10.Crack-Detection\\yolov7\\yolo7\\data\\s5s.mp4: 4 cars, 1 bus, 1 bench, Done. (52.7ms) Inference, (0.0ms) NMS\n",
      "video 1/1 (66/171) d:\\models\\10.Crack-Detection\\yolov7\\yolo7\\data\\s5s.mp4: 4 cars, 1 bus, 1 bench, Done. (50.0ms) Inference, (1.0ms) NMS\n",
      "video 1/1 (67/171) d:\\models\\10.Crack-Detection\\yolov7\\yolo7\\data\\s5s.mp4: 2 cars, 1 bench, Done. (48.0ms) Inference, (1.0ms) NMS\n",
      "video 1/1 (68/171) d:\\models\\10.Crack-Detection\\yolov7\\yolo7\\data\\s5s.mp4: 3 cars, 1 bus, 1 bench, Done. (50.5ms) Inference, (0.0ms) NMS\n",
      "video 1/1 (69/171) d:\\models\\10.Crack-Detection\\yolov7\\yolo7\\data\\s5s.mp4: 2 cars, 1 bench, Done. (50.0ms) Inference, (0.0ms) NMS\n",
      "video 1/1 (70/171) d:\\models\\10.Crack-Detection\\yolov7\\yolo7\\data\\s5s.mp4: 2 cars, 1 bench, Done. (50.0ms) Inference, (1.0ms) NMS\n",
      "video 1/1 (71/171) d:\\models\\10.Crack-Detection\\yolov7\\yolo7\\data\\s5s.mp4: 3 cars, 1 bench, Done. (49.2ms) Inference, (1.5ms) NMS\n",
      "video 1/1 (72/171) d:\\models\\10.Crack-Detection\\yolov7\\yolo7\\data\\s5s.mp4: 2 cars, Done. (49.5ms) Inference, (1.0ms) NMS\n",
      "video 1/1 (73/171) d:\\models\\10.Crack-Detection\\yolov7\\yolo7\\data\\s5s.mp4: 2 cars, Done. (51.0ms) Inference, (0.0ms) NMS\n",
      "video 1/1 (74/171) d:\\models\\10.Crack-Detection\\yolov7\\yolo7\\data\\s5s.mp4: 3 cars, Done. (48.1ms) Inference, (2.0ms) NMS\n",
      "video 1/1 (75/171) d:\\models\\10.Crack-Detection\\yolov7\\yolo7\\data\\s5s.mp4: 4 cars, Done. (51.0ms) Inference, (1.0ms) NMS\n",
      "video 1/1 (76/171) d:\\models\\10.Crack-Detection\\yolov7\\yolo7\\data\\s5s.mp4: 3 cars, Done. (48.0ms) Inference, (1.0ms) NMS\n",
      "video 1/1 (77/171) d:\\models\\10.Crack-Detection\\yolov7\\yolo7\\data\\s5s.mp4: 2 cars, Done. (48.5ms) Inference, (0.0ms) NMS\n",
      "video 1/1 (78/171) d:\\models\\10.Crack-Detection\\yolov7\\yolo7\\data\\s5s.mp4: 2 cars, Done. (60.0ms) Inference, (0.0ms) NMS\n",
      "video 1/1 (79/171) d:\\models\\10.Crack-Detection\\yolov7\\yolo7\\data\\s5s.mp4: 2 cars, Done. (52.0ms) Inference, (1.0ms) NMS\n",
      "video 1/1 (80/171) d:\\models\\10.Crack-Detection\\yolov7\\yolo7\\data\\s5s.mp4: 4 cars, 1 bench, Done. (50.5ms) Inference, (0.0ms) NMS\n",
      "video 1/1 (81/171) d:\\models\\10.Crack-Detection\\yolov7\\yolo7\\data\\s5s.mp4: 3 cars, Done. (51.0ms) Inference, (1.0ms) NMS\n",
      "video 1/1 (82/171) d:\\models\\10.Crack-Detection\\yolov7\\yolo7\\data\\s5s.mp4: 4 cars, Done. (56.4ms) Inference, (0.0ms) NMS\n",
      "video 1/1 (83/171) d:\\models\\10.Crack-Detection\\yolov7\\yolo7\\data\\s5s.mp4: 5 cars, 1 traffic light, Done. (50.2ms) Inference, (0.0ms) NMS\n",
      "video 1/1 (84/171) d:\\models\\10.Crack-Detection\\yolov7\\yolo7\\data\\s5s.mp4: 4 cars, 1 bus, 1 traffic light, Done. (49.0ms) Inference, (0.0ms) NMS\n",
      "video 1/1 (85/171) d:\\models\\10.Crack-Detection\\yolov7\\yolo7\\data\\s5s.mp4: 4 cars, 1 bus, Done. (51.0ms) Inference, (1.0ms) NMS\n",
      "video 1/1 (86/171) d:\\models\\10.Crack-Detection\\yolov7\\yolo7\\data\\s5s.mp4: 4 cars, 1 bus, Done. (50.5ms) Inference, (0.0ms) NMS\n",
      "video 1/1 (87/171) d:\\models\\10.Crack-Detection\\yolov7\\yolo7\\data\\s5s.mp4: 4 cars, 1 bus, 1 bench, Done. (50.0ms) Inference, (1.0ms) NMS\n",
      "video 1/1 (88/171) d:\\models\\10.Crack-Detection\\yolov7\\yolo7\\data\\s5s.mp4: 3 cars, 1 bus, 1 bench, Done. (55.0ms) Inference, (0.0ms) NMS\n",
      "video 1/1 (89/171) d:\\models\\10.Crack-Detection\\yolov7\\yolo7\\data\\s5s.mp4: 4 cars, Done. (50.5ms) Inference, (0.0ms) NMS\n",
      "video 1/1 (90/171) d:\\models\\10.Crack-Detection\\yolov7\\yolo7\\data\\s5s.mp4: 4 cars, Done. (49.0ms) Inference, (1.0ms) NMS\n",
      "video 1/1 (91/171) d:\\models\\10.Crack-Detection\\yolov7\\yolo7\\data\\s5s.mp4: 4 cars, Done. (50.0ms) Inference, (1.0ms) NMS\n",
      "video 1/1 (92/171) d:\\models\\10.Crack-Detection\\yolov7\\yolo7\\data\\s5s.mp4: 4 cars, Done. (50.5ms) Inference, (1.0ms) NMS\n",
      "video 1/1 (93/171) d:\\models\\10.Crack-Detection\\yolov7\\yolo7\\data\\s5s.mp4: 4 cars, 1 bus, 1 bench, Done. (47.0ms) Inference, (1.0ms) NMS\n",
      "video 1/1 (94/171) d:\\models\\10.Crack-Detection\\yolov7\\yolo7\\data\\s5s.mp4: 4 cars, 1 bench, Done. (50.0ms) Inference, (0.0ms) NMS\n",
      "video 1/1 (95/171) d:\\models\\10.Crack-Detection\\yolov7\\yolo7\\data\\s5s.mp4: 4 cars, 1 bench, Done. (48.5ms) Inference, (2.0ms) NMS\n",
      "video 1/1 (96/171) d:\\models\\10.Crack-Detection\\yolov7\\yolo7\\data\\s5s.mp4: 4 cars, Done. (48.0ms) Inference, (0.0ms) NMS\n",
      "video 1/1 (97/171) d:\\models\\10.Crack-Detection\\yolov7\\yolo7\\data\\s5s.mp4: 4 cars, 1 bench, Done. (57.0ms) Inference, (0.0ms) NMS\n",
      "video 1/1 (98/171) d:\\models\\10.Crack-Detection\\yolov7\\yolo7\\data\\s5s.mp4: 3 cars, 1 bus, 1 truck, 1 bench, Done. (48.4ms) Inference, (1.0ms) NMS\n",
      "video 1/1 (99/171) d:\\models\\10.Crack-Detection\\yolov7\\yolo7\\data\\s5s.mp4: 4 cars, 1 bus, 1 truck, 1 traffic light, 1 bench, Done. (53.1ms) Inference, (0.0ms) NMS\n",
      "video 1/1 (100/171) d:\\models\\10.Crack-Detection\\yolov7\\yolo7\\data\\s5s.mp4: 3 cars, 1 truck, 1 traffic light, 1 bench, Done. (53.3ms) Inference, (0.0ms) NMS\n",
      "video 1/1 (101/171) d:\\models\\10.Crack-Detection\\yolov7\\yolo7\\data\\s5s.mp4: 2 cars, 1 bus, 1 truck, 1 bench, Done. (50.0ms) Inference, (0.0ms) NMS\n",
      "video 1/1 (102/171) d:\\models\\10.Crack-Detection\\yolov7\\yolo7\\data\\s5s.mp4: 3 cars, 1 truck, 1 traffic light, 1 bench, Done. (51.0ms) Inference, (0.0ms) NMS\n",
      "video 1/1 (103/171) d:\\models\\10.Crack-Detection\\yolov7\\yolo7\\data\\s5s.mp4: 2 cars, 1 bus, 1 traffic light, 1 bench, Done. (53.5ms) Inference, (1.0ms) NMS\n",
      "video 1/1 (104/171) d:\\models\\10.Crack-Detection\\yolov7\\yolo7\\data\\s5s.mp4: 2 cars, 1 bus, 1 bench, Done. (53.8ms) Inference, (1.0ms) NMS\n",
      "video 1/1 (105/171) d:\\models\\10.Crack-Detection\\yolov7\\yolo7\\data\\s5s.mp4: 2 cars, 1 bus, Done. (51.5ms) Inference, (0.0ms) NMS\n",
      "video 1/1 (106/171) d:\\models\\10.Crack-Detection\\yolov7\\yolo7\\data\\s5s.mp4: 3 cars, 3 buss, 1 bench, Done. (53.0ms) Inference, (0.0ms) NMS\n",
      "video 1/1 (107/171) d:\\models\\10.Crack-Detection\\yolov7\\yolo7\\data\\s5s.mp4: 4 cars, 1 bus, Done. (50.2ms) Inference, (1.0ms) NMS\n",
      "video 1/1 (108/171) d:\\models\\10.Crack-Detection\\yolov7\\yolo7\\data\\s5s.mp4: 4 cars, Done. (49.9ms) Inference, (0.0ms) NMS\n",
      "video 1/1 (109/171) d:\\models\\10.Crack-Detection\\yolov7\\yolo7\\data\\s5s.mp4: 4 cars, Done. (51.0ms) Inference, (0.0ms) NMS\n",
      "video 1/1 (110/171) d:\\models\\10.Crack-Detection\\yolov7\\yolo7\\data\\s5s.mp4: 3 cars, 1 bus, 1 truck, Done. (51.3ms) Inference, (0.0ms) NMS\n",
      "video 1/1 (111/171) d:\\models\\10.Crack-Detection\\yolov7\\yolo7\\data\\s5s.mp4: 3 cars, 1 bus, 1 bench, Done. (51.1ms) Inference, (1.0ms) NMS\n",
      "video 1/1 (112/171) d:\\models\\10.Crack-Detection\\yolov7\\yolo7\\data\\s5s.mp4: 3 cars, 1 bus, 1 bench, Done. (51.2ms) Inference, (0.0ms) NMS\n",
      "video 1/1 (113/171) d:\\models\\10.Crack-Detection\\yolov7\\yolo7\\data\\s5s.mp4: 3 cars, 1 truck, 1 bench, Done. (49.3ms) Inference, (0.0ms) NMS\n",
      "video 1/1 (114/171) d:\\models\\10.Crack-Detection\\yolov7\\yolo7\\data\\s5s.mp4: 3 cars, 1 truck, Done. (49.2ms) Inference, (1.0ms) NMS\n",
      "video 1/1 (115/171) d:\\models\\10.Crack-Detection\\yolov7\\yolo7\\data\\s5s.mp4: 3 cars, 1 truck, Done. (53.0ms) Inference, (0.0ms) NMS\n",
      "video 1/1 (116/171) d:\\models\\10.Crack-Detection\\yolov7\\yolo7\\data\\s5s.mp4: 1 person, 4 cars, 1 bus, Done. (52.4ms) Inference, (1.0ms) NMS\n",
      "video 1/1 (117/171) d:\\models\\10.Crack-Detection\\yolov7\\yolo7\\data\\s5s.mp4: 3 cars, 1 bus, Done. (46.6ms) Inference, (1.0ms) NMS\n",
      "video 1/1 (118/171) d:\\models\\10.Crack-Detection\\yolov7\\yolo7\\data\\s5s.mp4: 3 cars, Done. (52.1ms) Inference, (1.0ms) NMS\n",
      "video 1/1 (119/171) d:\\models\\10.Crack-Detection\\yolov7\\yolo7\\data\\s5s.mp4: 1 person, 3 cars, 1 truck, Done. (50.4ms) Inference, (1.0ms) NMS\n",
      "video 1/1 (120/171) d:\\models\\10.Crack-Detection\\yolov7\\yolo7\\data\\s5s.mp4: 1 person, 4 cars, 1 truck, Done. (49.5ms) Inference, (1.0ms) NMS\n",
      "video 1/1 (121/171) d:\\models\\10.Crack-Detection\\yolov7\\yolo7\\data\\s5s.mp4: 3 cars, 1 truck, Done. (51.0ms) Inference, (0.0ms) NMS\n",
      "video 1/1 (122/171) d:\\models\\10.Crack-Detection\\yolov7\\yolo7\\data\\s5s.mp4: 3 cars, 1 bus, Done. (50.3ms) Inference, (0.0ms) NMS\n",
      "video 1/1 (123/171) d:\\models\\10.Crack-Detection\\yolov7\\yolo7\\data\\s5s.mp4: 3 cars, Done. (49.5ms) Inference, (0.0ms) NMS\n",
      "video 1/1 (124/171) d:\\models\\10.Crack-Detection\\yolov7\\yolo7\\data\\s5s.mp4: 3 cars, 1 bus, Done. (51.0ms) Inference, (0.0ms) NMS\n",
      "video 1/1 (125/171) d:\\models\\10.Crack-Detection\\yolov7\\yolo7\\data\\s5s.mp4: 3 cars, Done. (48.6ms) Inference, (1.0ms) NMS\n",
      "video 1/1 (126/171) d:\\models\\10.Crack-Detection\\yolov7\\yolo7\\data\\s5s.mp4: 3 cars, Done. (48.5ms) Inference, (1.0ms) NMS\n",
      "video 1/1 (127/171) d:\\models\\10.Crack-Detection\\yolov7\\yolo7\\data\\s5s.mp4: 4 cars, 1 bus, Done. (47.2ms) Inference, (1.0ms) NMS\n",
      "video 1/1 (128/171) d:\\models\\10.Crack-Detection\\yolov7\\yolo7\\data\\s5s.mp4: 2 cars, 1 truck, Done. (54.1ms) Inference, (0.0ms) NMS\n",
      "video 1/1 (129/171) d:\\models\\10.Crack-Detection\\yolov7\\yolo7\\data\\s5s.mp4: 2 cars, 1 truck, Done. (48.0ms) Inference, (1.1ms) NMS\n",
      "video 1/1 (130/171) d:\\models\\10.Crack-Detection\\yolov7\\yolo7\\data\\s5s.mp4: 2 cars, Done. (49.0ms) Inference, (0.0ms) NMS\n",
      "video 1/1 (131/171) d:\\models\\10.Crack-Detection\\yolov7\\yolo7\\data\\s5s.mp4: 3 cars, Done. (52.2ms) Inference, (1.0ms) NMS\n",
      "video 1/1 (132/171) d:\\models\\10.Crack-Detection\\yolov7\\yolo7\\data\\s5s.mp4: 3 cars, Done. (63.0ms) Inference, (0.0ms) NMS\n",
      "video 1/1 (133/171) d:\\models\\10.Crack-Detection\\yolov7\\yolo7\\data\\s5s.mp4: 3 cars, 1 bus, 1 truck, Done. (49.0ms) Inference, (1.0ms) NMS\n",
      "video 1/1 (134/171) d:\\models\\10.Crack-Detection\\yolov7\\yolo7\\data\\s5s.mp4: 3 cars, 1 truck, Done. (49.2ms) Inference, (0.0ms) NMS\n",
      "video 1/1 (135/171) d:\\models\\10.Crack-Detection\\yolov7\\yolo7\\data\\s5s.mp4: 3 cars, 1 truck, Done. (48.9ms) Inference, (1.0ms) NMS\n",
      "video 1/1 (136/171) d:\\models\\10.Crack-Detection\\yolov7\\yolo7\\data\\s5s.mp4: 3 cars, 1 truck, Done. (53.0ms) Inference, (0.0ms) NMS\n",
      "video 1/1 (137/171) d:\\models\\10.Crack-Detection\\yolov7\\yolo7\\data\\s5s.mp4: 3 cars, 1 truck, Done. (49.4ms) Inference, (1.0ms) NMS\n",
      "video 1/1 (138/171) d:\\models\\10.Crack-Detection\\yolov7\\yolo7\\data\\s5s.mp4: 3 cars, Done. (49.9ms) Inference, (0.0ms) NMS\n",
      "video 1/1 (139/171) d:\\models\\10.Crack-Detection\\yolov7\\yolo7\\data\\s5s.mp4: 3 cars, Done. (53.0ms) Inference, (0.0ms) NMS\n",
      "video 1/1 (140/171) d:\\models\\10.Crack-Detection\\yolov7\\yolo7\\data\\s5s.mp4: 3 cars, 1 truck, Done. (50.5ms) Inference, (1.0ms) NMS\n",
      "video 1/1 (141/171) d:\\models\\10.Crack-Detection\\yolov7\\yolo7\\data\\s5s.mp4: 3 cars, 2 trucks, Done. (50.5ms) Inference, (0.0ms) NMS\n",
      "video 1/1 (142/171) d:\\models\\10.Crack-Detection\\yolov7\\yolo7\\data\\s5s.mp4: 3 cars, 2 trucks, Done. (49.1ms) Inference, (1.0ms) NMS\n",
      "video 1/1 (143/171) d:\\models\\10.Crack-Detection\\yolov7\\yolo7\\data\\s5s.mp4: 3 cars, 1 truck, Done. (49.6ms) Inference, (2.0ms) NMS\n",
      "video 1/1 (144/171) d:\\models\\10.Crack-Detection\\yolov7\\yolo7\\data\\s5s.mp4: 3 cars, 1 truck, Done. (48.5ms) Inference, (1.0ms) NMS\n",
      "video 1/1 (145/171) d:\\models\\10.Crack-Detection\\yolov7\\yolo7\\data\\s5s.mp4: 3 cars, 1 truck, Done. (49.0ms) Inference, (1.0ms) NMS\n",
      "video 1/1 (146/171) d:\\models\\10.Crack-Detection\\yolov7\\yolo7\\data\\s5s.mp4: 3 cars, Done. (52.0ms) Inference, (1.0ms) NMS\n",
      "video 1/1 (147/171) d:\\models\\10.Crack-Detection\\yolov7\\yolo7\\data\\s5s.mp4: 3 cars, Done. (49.1ms) Inference, (1.0ms) NMS\n",
      "video 1/1 (148/171) d:\\models\\10.Crack-Detection\\yolov7\\yolo7\\data\\s5s.mp4: 4 cars, 1 traffic light, Done. (49.0ms) Inference, (1.0ms) NMS\n",
      "video 1/1 (149/171) d:\\models\\10.Crack-Detection\\yolov7\\yolo7\\data\\s5s.mp4: 2 cars, 1 truck, Done. (50.7ms) Inference, (0.0ms) NMS\n",
      "video 1/1 (150/171) d:\\models\\10.Crack-Detection\\yolov7\\yolo7\\data\\s5s.mp4: 4 cars, 1 truck, Done. (50.4ms) Inference, (1.4ms) NMS\n",
      "video 1/1 (151/171) d:\\models\\10.Crack-Detection\\yolov7\\yolo7\\data\\s5s.mp4: 3 cars, 1 truck, Done. (56.7ms) Inference, (0.0ms) NMS\n",
      "video 1/1 (152/171) d:\\models\\10.Crack-Detection\\yolov7\\yolo7\\data\\s5s.mp4: 2 cars, 1 bus, 1 truck, Done. (51.1ms) Inference, (1.0ms) NMS\n",
      "video 1/1 (153/171) d:\\models\\10.Crack-Detection\\yolov7\\yolo7\\data\\s5s.mp4: 2 cars, 1 bus, 1 truck, Done. (50.5ms) Inference, (0.0ms) NMS\n",
      "video 1/1 (154/171) d:\\models\\10.Crack-Detection\\yolov7\\yolo7\\data\\s5s.mp4: 3 cars, 2 trucks, Done. (48.0ms) Inference, (1.0ms) NMS\n",
      "video 1/1 (155/171) d:\\models\\10.Crack-Detection\\yolov7\\yolo7\\data\\s5s.mp4: 1 person, 3 cars, 2 trucks, 1 dog, Done. (53.5ms) Inference, (1.0ms) NMS\n",
      "video 1/1 (156/171) d:\\models\\10.Crack-Detection\\yolov7\\yolo7\\data\\s5s.mp4: 1 person, 3 cars, 1 truck, Done. (50.3ms) Inference, (0.0ms) NMS\n",
      "video 1/1 (157/171) d:\\models\\10.Crack-Detection\\yolov7\\yolo7\\data\\s5s.mp4: 1 person, 2 cars, 1 truck, Done. (49.4ms) Inference, (1.0ms) NMS\n",
      "video 1/1 (158/171) d:\\models\\10.Crack-Detection\\yolov7\\yolo7\\data\\s5s.mp4: 1 person, 3 cars, 1 truck, Done. (52.5ms) Inference, (1.0ms) NMS\n",
      "video 1/1 (159/171) d:\\models\\10.Crack-Detection\\yolov7\\yolo7\\data\\s5s.mp4: 1 person, 2 cars, 1 truck, Done. (50.5ms) Inference, (0.0ms) NMS\n",
      "video 1/1 (160/171) d:\\models\\10.Crack-Detection\\yolov7\\yolo7\\data\\s5s.mp4: 2 persons, 2 cars, 1 truck, Done. (51.0ms) Inference, (0.0ms) NMS\n",
      "video 1/1 (161/171) d:\\models\\10.Crack-Detection\\yolov7\\yolo7\\data\\s5s.mp4: 2 persons, 2 cars, 1 truck, Done. (49.2ms) Inference, (1.0ms) NMS\n",
      "video 1/1 (162/171) d:\\models\\10.Crack-Detection\\yolov7\\yolo7\\data\\s5s.mp4: 1 person, 2 cars, 1 truck, Done. (47.6ms) Inference, (1.0ms) NMS\n",
      "video 1/1 (163/171) d:\\models\\10.Crack-Detection\\yolov7\\yolo7\\data\\s5s.mp4: 1 person, 2 cars, Done. (54.0ms) Inference, (1.0ms) NMS\n",
      "video 1/1 (164/171) d:\\models\\10.Crack-Detection\\yolov7\\yolo7\\data\\s5s.mp4: 1 person, 2 cars, 1 bus, 1 truck, Done. (51.5ms) Inference, (1.0ms) NMS\n",
      "video 1/1 (165/171) d:\\models\\10.Crack-Detection\\yolov7\\yolo7\\data\\s5s.mp4: 1 person, 2 cars, 1 truck, Done. (53.6ms) Inference, (0.0ms) NMS\n",
      "video 1/1 (166/171) d:\\models\\10.Crack-Detection\\yolov7\\yolo7\\data\\s5s.mp4: 2 persons, 2 cars, Done. (50.0ms) Inference, (0.0ms) NMS\n",
      "video 1/1 (167/171) d:\\models\\10.Crack-Detection\\yolov7\\yolo7\\data\\s5s.mp4: 2 persons, 2 cars, Done. (55.5ms) Inference, (0.0ms) NMS\n",
      "video 1/1 (168/171) d:\\models\\10.Crack-Detection\\yolov7\\yolo7\\data\\s5s.mp4: 2 cars, 1 truck, Done. (49.5ms) Inference, (0.0ms) NMS\n",
      "video 1/1 (169/171) d:\\models\\10.Crack-Detection\\yolov7\\yolo7\\data\\s5s.mp4: 2 cars, 1 truck, 1 traffic light, Done. (49.0ms) Inference, (1.0ms) NMS\n",
      "video 1/1 (170/171) d:\\models\\10.Crack-Detection\\yolov7\\yolo7\\data\\s5s.mp4: 2 cars, 1 truck, 1 traffic light, Done. (56.5ms) Inference, (0.0ms) NMS\n",
      "video 1/1 (171/171) d:\\models\\10.Crack-Detection\\yolov7\\yolo7\\data\\s5s.mp4: 1 car, 1 truck, 1 traffic light, Done. (49.5ms) Inference, (1.0ms) NMS\n",
      "Done. (11.567s)\n"
     ]
    },
    {
     "name": "stderr",
     "output_type": "stream",
     "text": [
      "YOLOR  v0.1-128-ga207844 torch 2.1.1+cpu CPU\n",
      "\n",
      "d:\\Programs\\anaconda3\\envs\\yolo5p8\\lib\\site-packages\\torch\\functional.py:504: UserWarning: torch.meshgrid: in an upcoming release, it will be required to pass the indexing argument. (Triggered internally at C:\\actions-runner\\_work\\pytorch\\pytorch\\builder\\windows\\pytorch\\aten\\src\\ATen\\native\\TensorShape.cpp:3527.)\n",
      "  return _VF.meshgrid(tensors, **kwargs)  # type: ignore[attr-defined]\n",
      "Model Summary: 200 layers, 6219709 parameters, 229245 gradients, 13.7 GFLOPS\n"
     ]
    }
   ],
   "source": [
    "!python detect.py --source data/s5s.mp4 --name carsVideo --weights yolov7-tiny.pt"
   ]
  },
  {
   "cell_type": "code",
   "execution_count": 23,
   "metadata": {},
   "outputs": [
    {
     "name": "stdout",
     "output_type": "stream",
     "text": [
      "Namespace(agnostic_nms=False, augment=False, classes=None, conf_thres=0.25, device='', exist_ok=False, img_size=640, iou_thres=0.45, name='carsVideo', no_trace=False, nosave=False, project='runs/detect', save_conf=False, save_txt=False, source='data/s5s.mp4', update=False, view_img=False, weights=['yolov7-tiny.pt'])\n",
      "Fusing layers... \n",
      " Convert model to Traced-model... \n",
      " traced_script_module saved! \n",
      " model is traced! \n",
      "\n",
      "video 1/1 (1/171) d:\\models\\10.Crack-Detection\\yolov7\\yolo7\\data\\s5s.mp4: 3 cars, 1 truck, 1 traffic light, 1 bench, Done. (81.9ms) Inference, (0.0ms) NMS\n",
      "video 1/1 (2/171) d:\\models\\10.Crack-Detection\\yolov7\\yolo7\\data\\s5s.mp4: 3 cars, 1 truck, 1 traffic light, 1 bench, Done. (52.0ms) Inference, (1.0ms) NMS\n",
      "video 1/1 (3/171) d:\\models\\10.Crack-Detection\\yolov7\\yolo7\\data\\s5s.mp4: 2 cars, 1 truck, 1 traffic light, 1 bench, Done. (50.1ms) Inference, (0.0ms) NMS\n",
      "video 1/1 (4/171) d:\\models\\10.Crack-Detection\\yolov7\\yolo7\\data\\s5s.mp4: 2 cars, 1 truck, 1 traffic light, 2 benchs, Done. (48.5ms) Inference, (1.0ms) NMS\n",
      "video 1/1 (5/171) d:\\models\\10.Crack-Detection\\yolov7\\yolo7\\data\\s5s.mp4: 2 cars, 1 truck, 1 traffic light, 1 bench, Done. (51.0ms) Inference, (1.0ms) NMS\n",
      "video 1/1 (6/171) d:\\models\\10.Crack-Detection\\yolov7\\yolo7\\data\\s5s.mp4: 2 cars, 2 trucks, 1 traffic light, 1 bench, Done. (48.5ms) Inference, (1.0ms) NMS\n",
      "video 1/1 (7/171) d:\\models\\10.Crack-Detection\\yolov7\\yolo7\\data\\s5s.mp4: 2 cars, 2 trucks, 1 bench, Done. (53.1ms) Inference, (1.0ms) NMS\n",
      "video 1/1 (8/171) d:\\models\\10.Crack-Detection\\yolov7\\yolo7\\data\\s5s.mp4: 1 car, 2 trucks, 1 traffic light, 1 bench, Done. (53.0ms) Inference, (1.0ms) NMS\n",
      "video 1/1 (9/171) d:\\models\\10.Crack-Detection\\yolov7\\yolo7\\data\\s5s.mp4: 1 car, 2 trucks, 1 bench, Done. (51.3ms) Inference, (1.0ms) NMS\n",
      "video 1/1 (10/171) d:\\models\\10.Crack-Detection\\yolov7\\yolo7\\data\\s5s.mp4: 1 car, 2 trucks, 1 bench, Done. (49.1ms) Inference, (0.0ms) NMS\n",
      "video 1/1 (11/171) d:\\models\\10.Crack-Detection\\yolov7\\yolo7\\data\\s5s.mp4: 1 car, 2 trucks, 1 bench, Done. (46.8ms) Inference, (1.0ms) NMS\n",
      "video 1/1 (12/171) d:\\models\\10.Crack-Detection\\yolov7\\yolo7\\data\\s5s.mp4: 1 car, 2 trucks, 1 traffic light, 1 bench, Done. (50.2ms) Inference, (0.0ms) NMS\n",
      "video 1/1 (13/171) d:\\models\\10.Crack-Detection\\yolov7\\yolo7\\data\\s5s.mp4: 1 car, 2 trucks, 1 traffic light, 1 bench, Done. (54.0ms) Inference, (0.0ms) NMS\n",
      "video 1/1 (14/171) d:\\models\\10.Crack-Detection\\yolov7\\yolo7\\data\\s5s.mp4: 1 car, 2 trucks, 1 bench, Done. (48.7ms) Inference, (1.0ms) NMS\n",
      "video 1/1 (15/171) d:\\models\\10.Crack-Detection\\yolov7\\yolo7\\data\\s5s.mp4: 1 car, 2 trucks, 1 bench, Done. (49.5ms) Inference, (0.0ms) NMS\n",
      "video 1/1 (16/171) d:\\models\\10.Crack-Detection\\yolov7\\yolo7\\data\\s5s.mp4: 1 car, 2 trucks, 1 bench, Done. (48.0ms) Inference, (0.0ms) NMS\n",
      "video 1/1 (17/171) d:\\models\\10.Crack-Detection\\yolov7\\yolo7\\data\\s5s.mp4: 1 car, 1 truck, 1 bench, Done. (50.5ms) Inference, (0.0ms) NMS\n",
      "video 1/1 (18/171) d:\\models\\10.Crack-Detection\\yolov7\\yolo7\\data\\s5s.mp4: 1 car, 2 trucks, 1 bench, Done. (47.4ms) Inference, (2.0ms) NMS\n",
      "video 1/1 (19/171) d:\\models\\10.Crack-Detection\\yolov7\\yolo7\\data\\s5s.mp4: 1 car, 1 truck, 1 bench, Done. (59.0ms) Inference, (0.0ms) NMS\n",
      "video 1/1 (20/171) d:\\models\\10.Crack-Detection\\yolov7\\yolo7\\data\\s5s.mp4: 1 car, 2 trucks, 1 bench, Done. (52.0ms) Inference, (0.0ms) NMS\n",
      "video 1/1 (21/171) d:\\models\\10.Crack-Detection\\yolov7\\yolo7\\data\\s5s.mp4: 3 cars, 2 trucks, 1 bench, Done. (50.0ms) Inference, (0.0ms) NMS\n",
      "video 1/1 (22/171) d:\\models\\10.Crack-Detection\\yolov7\\yolo7\\data\\s5s.mp4: 1 car, 2 trucks, 1 bench, Done. (48.5ms) Inference, (0.0ms) NMS\n",
      "video 1/1 (23/171) d:\\models\\10.Crack-Detection\\yolov7\\yolo7\\data\\s5s.mp4: 1 car, 2 trucks, 1 bench, Done. (52.1ms) Inference, (0.0ms) NMS\n",
      "video 1/1 (24/171) d:\\models\\10.Crack-Detection\\yolov7\\yolo7\\data\\s5s.mp4: 2 cars, 2 trucks, 1 bench, Done. (49.3ms) Inference, (1.0ms) NMS\n",
      "video 1/1 (25/171) d:\\models\\10.Crack-Detection\\yolov7\\yolo7\\data\\s5s.mp4: 1 car, 2 trucks, 1 bench, Done. (50.5ms) Inference, (1.0ms) NMS\n",
      "video 1/1 (26/171) d:\\models\\10.Crack-Detection\\yolov7\\yolo7\\data\\s5s.mp4: 2 cars, 2 trucks, 1 bench, Done. (54.0ms) Inference, (1.0ms) NMS\n",
      "video 1/1 (27/171) d:\\models\\10.Crack-Detection\\yolov7\\yolo7\\data\\s5s.mp4: 2 cars, 3 trucks, 1 bench, Done. (49.0ms) Inference, (0.0ms) NMS\n",
      "video 1/1 (28/171) d:\\models\\10.Crack-Detection\\yolov7\\yolo7\\data\\s5s.mp4: 2 cars, 2 trucks, 1 bench, Done. (50.5ms) Inference, (1.0ms) NMS\n",
      "video 1/1 (29/171) d:\\models\\10.Crack-Detection\\yolov7\\yolo7\\data\\s5s.mp4: 3 cars, 2 trucks, 1 bench, Done. (47.0ms) Inference, (1.0ms) NMS\n",
      "video 1/1 (30/171) d:\\models\\10.Crack-Detection\\yolov7\\yolo7\\data\\s5s.mp4: 2 cars, 2 trucks, 1 bench, Done. (52.5ms) Inference, (0.0ms) NMS\n",
      "video 1/1 (31/171) d:\\models\\10.Crack-Detection\\yolov7\\yolo7\\data\\s5s.mp4: 2 cars, 2 trucks, 1 bench, Done. (49.1ms) Inference, (0.0ms) NMS\n",
      "video 1/1 (32/171) d:\\models\\10.Crack-Detection\\yolov7\\yolo7\\data\\s5s.mp4: 2 cars, 1 truck, 1 bench, Done. (50.1ms) Inference, (1.0ms) NMS\n",
      "video 1/1 (33/171) d:\\models\\10.Crack-Detection\\yolov7\\yolo7\\data\\s5s.mp4: 2 cars, 1 bench, Done. (53.0ms) Inference, (1.0ms) NMS\n",
      "video 1/1 (34/171) d:\\models\\10.Crack-Detection\\yolov7\\yolo7\\data\\s5s.mp4: 2 cars, 1 bench, Done. (49.9ms) Inference, (0.0ms) NMS\n",
      "video 1/1 (35/171) d:\\models\\10.Crack-Detection\\yolov7\\yolo7\\data\\s5s.mp4: 2 cars, 1 truck, 1 bench, Done. (49.0ms) Inference, (0.0ms) NMS\n",
      "video 1/1 (36/171) d:\\models\\10.Crack-Detection\\yolov7\\yolo7\\data\\s5s.mp4: 3 cars, 1 bench, Done. (48.0ms) Inference, (1.0ms) NMS\n",
      "video 1/1 (37/171) d:\\models\\10.Crack-Detection\\yolov7\\yolo7\\data\\s5s.mp4: 3 cars, 1 bench, Done. (51.1ms) Inference, (0.0ms) NMS\n",
      "video 1/1 (38/171) d:\\models\\10.Crack-Detection\\yolov7\\yolo7\\data\\s5s.mp4: 3 cars, 1 bench, Done. (51.0ms) Inference, (1.0ms) NMS\n",
      "video 1/1 (39/171) d:\\models\\10.Crack-Detection\\yolov7\\yolo7\\data\\s5s.mp4: 3 cars, 1 bench, Done. (50.5ms) Inference, (0.0ms) NMS\n",
      "video 1/1 (40/171) d:\\models\\10.Crack-Detection\\yolov7\\yolo7\\data\\s5s.mp4: 3 cars, 1 bench, Done. (48.5ms) Inference, (1.0ms) NMS\n",
      "video 1/1 (41/171) d:\\models\\10.Crack-Detection\\yolov7\\yolo7\\data\\s5s.mp4: 4 cars, 1 bench, Done. (48.0ms) Inference, (1.0ms) NMS\n",
      "video 1/1 (42/171) d:\\models\\10.Crack-Detection\\yolov7\\yolo7\\data\\s5s.mp4: 3 cars, 1 bench, Done. (49.1ms) Inference, (0.0ms) NMS\n",
      "video 1/1 (43/171) d:\\models\\10.Crack-Detection\\yolov7\\yolo7\\data\\s5s.mp4: 2 cars, 1 bench, Done. (52.1ms) Inference, (0.0ms) NMS\n",
      "video 1/1 (44/171) d:\\models\\10.Crack-Detection\\yolov7\\yolo7\\data\\s5s.mp4: 2 cars, 1 bench, Done. (48.1ms) Inference, (0.0ms) NMS\n",
      "video 1/1 (45/171) d:\\models\\10.Crack-Detection\\yolov7\\yolo7\\data\\s5s.mp4: 2 cars, 1 bench, Done. (49.5ms) Inference, (0.0ms) NMS\n",
      "video 1/1 (46/171) d:\\models\\10.Crack-Detection\\yolov7\\yolo7\\data\\s5s.mp4: 2 cars, 1 bench, Done. (52.0ms) Inference, (0.0ms) NMS\n",
      "video 1/1 (47/171) d:\\models\\10.Crack-Detection\\yolov7\\yolo7\\data\\s5s.mp4: 2 cars, 1 bus, 1 bench, Done. (48.7ms) Inference, (0.0ms) NMS\n",
      "video 1/1 (48/171) d:\\models\\10.Crack-Detection\\yolov7\\yolo7\\data\\s5s.mp4: 3 cars, 1 bench, Done. (50.2ms) Inference, (1.0ms) NMS\n",
      "video 1/1 (49/171) d:\\models\\10.Crack-Detection\\yolov7\\yolo7\\data\\s5s.mp4: 2 cars, 1 bus, 1 bench, Done. (54.1ms) Inference, (1.0ms) NMS\n",
      "video 1/1 (50/171) d:\\models\\10.Crack-Detection\\yolov7\\yolo7\\data\\s5s.mp4: 2 cars, 1 bench, Done. (52.4ms) Inference, (0.0ms) NMS\n",
      "video 1/1 (51/171) d:\\models\\10.Crack-Detection\\yolov7\\yolo7\\data\\s5s.mp4: 2 cars, 1 bus, 1 bench, Done. (52.1ms) Inference, (0.0ms) NMS\n",
      "video 1/1 (52/171) d:\\models\\10.Crack-Detection\\yolov7\\yolo7\\data\\s5s.mp4: 2 cars, 2 buss, 1 traffic light, 1 bench, Done. (54.9ms) Inference, (0.0ms) NMS\n",
      "video 1/1 (53/171) d:\\models\\10.Crack-Detection\\yolov7\\yolo7\\data\\s5s.mp4: 2 cars, 2 buss, 1 bench, Done. (52.1ms) Inference, (1.1ms) NMS\n",
      "video 1/1 (54/171) d:\\models\\10.Crack-Detection\\yolov7\\yolo7\\data\\s5s.mp4: 2 cars, 1 bus, 1 bench, Done. (50.1ms) Inference, (0.0ms) NMS\n",
      "video 1/1 (55/171) d:\\models\\10.Crack-Detection\\yolov7\\yolo7\\data\\s5s.mp4: 2 cars, 1 bus, 1 bench, Done. (49.1ms) Inference, (1.0ms) NMS\n",
      "video 1/1 (56/171) d:\\models\\10.Crack-Detection\\yolov7\\yolo7\\data\\s5s.mp4: 2 cars, 2 buss, 2 benchs, Done. (51.0ms) Inference, (1.1ms) NMS\n",
      "video 1/1 (57/171) d:\\models\\10.Crack-Detection\\yolov7\\yolo7\\data\\s5s.mp4: 2 cars, 3 buss, 2 benchs, Done. (50.0ms) Inference, (1.0ms) NMS\n",
      "video 1/1 (58/171) d:\\models\\10.Crack-Detection\\yolov7\\yolo7\\data\\s5s.mp4: 2 cars, 3 buss, 1 traffic light, 2 benchs, Done. (48.1ms) Inference, (0.0ms) NMS\n",
      "video 1/1 (59/171) d:\\models\\10.Crack-Detection\\yolov7\\yolo7\\data\\s5s.mp4: 2 cars, 1 bus, 2 benchs, Done. (52.0ms) Inference, (0.0ms) NMS\n",
      "video 1/1 (60/171) d:\\models\\10.Crack-Detection\\yolov7\\yolo7\\data\\s5s.mp4: 3 cars, 1 traffic light, 2 benchs, Done. (51.0ms) Inference, (1.0ms) NMS\n",
      "video 1/1 (61/171) d:\\models\\10.Crack-Detection\\yolov7\\yolo7\\data\\s5s.mp4: 3 cars, 1 traffic light, 1 bench, Done. (48.5ms) Inference, (1.0ms) NMS\n",
      "video 1/1 (62/171) d:\\models\\10.Crack-Detection\\yolov7\\yolo7\\data\\s5s.mp4: 4 cars, 1 bench, Done. (50.0ms) Inference, (0.0ms) NMS\n",
      "video 1/1 (63/171) d:\\models\\10.Crack-Detection\\yolov7\\yolo7\\data\\s5s.mp4: 3 cars, 1 bench, Done. (52.0ms) Inference, (1.0ms) NMS\n",
      "video 1/1 (64/171) d:\\models\\10.Crack-Detection\\yolov7\\yolo7\\data\\s5s.mp4: 4 cars, 1 bench, Done. (49.5ms) Inference, (1.0ms) NMS\n",
      "video 1/1 (65/171) d:\\models\\10.Crack-Detection\\yolov7\\yolo7\\data\\s5s.mp4: 4 cars, 1 bus, 1 bench, Done. (49.5ms) Inference, (0.0ms) NMS\n",
      "video 1/1 (66/171) d:\\models\\10.Crack-Detection\\yolov7\\yolo7\\data\\s5s.mp4: 4 cars, 1 bus, 1 bench, Done. (52.0ms) Inference, (0.0ms) NMS\n",
      "video 1/1 (67/171) d:\\models\\10.Crack-Detection\\yolov7\\yolo7\\data\\s5s.mp4: 2 cars, 1 bench, Done. (51.1ms) Inference, (0.0ms) NMS\n",
      "video 1/1 (68/171) d:\\models\\10.Crack-Detection\\yolov7\\yolo7\\data\\s5s.mp4: 3 cars, 1 bus, 1 bench, Done. (50.0ms) Inference, (1.0ms) NMS\n",
      "video 1/1 (69/171) d:\\models\\10.Crack-Detection\\yolov7\\yolo7\\data\\s5s.mp4: 2 cars, 1 bench, Done. (53.0ms) Inference, (0.0ms) NMS\n",
      "video 1/1 (70/171) d:\\models\\10.Crack-Detection\\yolov7\\yolo7\\data\\s5s.mp4: 2 cars, 1 bench, Done. (49.3ms) Inference, (0.0ms) NMS\n",
      "video 1/1 (71/171) d:\\models\\10.Crack-Detection\\yolov7\\yolo7\\data\\s5s.mp4: 3 cars, 1 bench, Done. (51.1ms) Inference, (0.0ms) NMS\n",
      "video 1/1 (72/171) d:\\models\\10.Crack-Detection\\yolov7\\yolo7\\data\\s5s.mp4: 2 cars, Done. (54.0ms) Inference, (0.0ms) NMS\n",
      "video 1/1 (73/171) d:\\models\\10.Crack-Detection\\yolov7\\yolo7\\data\\s5s.mp4: 2 cars, Done. (50.3ms) Inference, (1.0ms) NMS\n",
      "video 1/1 (74/171) d:\\models\\10.Crack-Detection\\yolov7\\yolo7\\data\\s5s.mp4: 3 cars, Done. (48.5ms) Inference, (1.0ms) NMS\n",
      "video 1/1 (75/171) d:\\models\\10.Crack-Detection\\yolov7\\yolo7\\data\\s5s.mp4: 4 cars, Done. (50.0ms) Inference, (0.0ms) NMS\n",
      "video 1/1 (76/171) d:\\models\\10.Crack-Detection\\yolov7\\yolo7\\data\\s5s.mp4: 3 cars, Done. (51.2ms) Inference, (0.0ms) NMS\n",
      "video 1/1 (77/171) d:\\models\\10.Crack-Detection\\yolov7\\yolo7\\data\\s5s.mp4: 2 cars, Done. (49.5ms) Inference, (1.0ms) NMS\n",
      "video 1/1 (78/171) d:\\models\\10.Crack-Detection\\yolov7\\yolo7\\data\\s5s.mp4: 2 cars, Done. (48.0ms) Inference, (0.0ms) NMS\n",
      "video 1/1 (79/171) d:\\models\\10.Crack-Detection\\yolov7\\yolo7\\data\\s5s.mp4: 2 cars, Done. (52.2ms) Inference, (0.0ms) NMS\n",
      "video 1/1 (80/171) d:\\models\\10.Crack-Detection\\yolov7\\yolo7\\data\\s5s.mp4: 4 cars, 1 bench, Done. (50.9ms) Inference, (0.0ms) NMS\n",
      "video 1/1 (81/171) d:\\models\\10.Crack-Detection\\yolov7\\yolo7\\data\\s5s.mp4: 3 cars, Done. (48.0ms) Inference, (0.0ms) NMS\n",
      "video 1/1 (82/171) d:\\models\\10.Crack-Detection\\yolov7\\yolo7\\data\\s5s.mp4: 4 cars, Done. (48.6ms) Inference, (0.0ms) NMS\n",
      "video 1/1 (83/171) d:\\models\\10.Crack-Detection\\yolov7\\yolo7\\data\\s5s.mp4: 5 cars, 1 traffic light, Done. (54.0ms) Inference, (1.0ms) NMS\n",
      "video 1/1 (84/171) d:\\models\\10.Crack-Detection\\yolov7\\yolo7\\data\\s5s.mp4: 4 cars, 1 bus, 1 traffic light, Done. (49.1ms) Inference, (1.0ms) NMS\n",
      "video 1/1 (85/171) d:\\models\\10.Crack-Detection\\yolov7\\yolo7\\data\\s5s.mp4: 4 cars, 1 bus, Done. (49.8ms) Inference, (1.0ms) NMS\n",
      "video 1/1 (86/171) d:\\models\\10.Crack-Detection\\yolov7\\yolo7\\data\\s5s.mp4: 4 cars, 1 bus, Done. (50.5ms) Inference, (0.0ms) NMS\n",
      "video 1/1 (87/171) d:\\models\\10.Crack-Detection\\yolov7\\yolo7\\data\\s5s.mp4: 4 cars, 1 bus, 1 bench, Done. (50.0ms) Inference, (0.0ms) NMS\n",
      "video 1/1 (88/171) d:\\models\\10.Crack-Detection\\yolov7\\yolo7\\data\\s5s.mp4: 3 cars, 1 bus, 1 bench, Done. (51.0ms) Inference, (1.0ms) NMS\n",
      "video 1/1 (89/171) d:\\models\\10.Crack-Detection\\yolov7\\yolo7\\data\\s5s.mp4: 4 cars, Done. (49.0ms) Inference, (1.0ms) NMS\n",
      "video 1/1 (90/171) d:\\models\\10.Crack-Detection\\yolov7\\yolo7\\data\\s5s.mp4: 4 cars, Done. (49.0ms) Inference, (1.0ms) NMS\n",
      "video 1/1 (91/171) d:\\models\\10.Crack-Detection\\yolov7\\yolo7\\data\\s5s.mp4: 4 cars, Done. (52.5ms) Inference, (0.0ms) NMS\n",
      "video 1/1 (92/171) d:\\models\\10.Crack-Detection\\yolov7\\yolo7\\data\\s5s.mp4: 4 cars, Done. (48.0ms) Inference, (1.0ms) NMS\n",
      "video 1/1 (93/171) d:\\models\\10.Crack-Detection\\yolov7\\yolo7\\data\\s5s.mp4: 4 cars, 1 bus, 1 bench, Done. (51.0ms) Inference, (0.0ms) NMS\n",
      "video 1/1 (94/171) d:\\models\\10.Crack-Detection\\yolov7\\yolo7\\data\\s5s.mp4: 4 cars, 1 bench, Done. (51.5ms) Inference, (0.0ms) NMS\n",
      "video 1/1 (95/171) d:\\models\\10.Crack-Detection\\yolov7\\yolo7\\data\\s5s.mp4: 4 cars, 1 bench, Done. (48.2ms) Inference, (1.0ms) NMS\n",
      "video 1/1 (96/171) d:\\models\\10.Crack-Detection\\yolov7\\yolo7\\data\\s5s.mp4: 4 cars, Done. (52.0ms) Inference, (0.0ms) NMS\n",
      "video 1/1 (97/171) d:\\models\\10.Crack-Detection\\yolov7\\yolo7\\data\\s5s.mp4: 4 cars, 1 bench, Done. (53.1ms) Inference, (0.0ms) NMS\n",
      "video 1/1 (98/171) d:\\models\\10.Crack-Detection\\yolov7\\yolo7\\data\\s5s.mp4: 3 cars, 1 bus, 1 truck, 1 bench, Done. (52.6ms) Inference, (1.0ms) NMS\n",
      "video 1/1 (99/171) d:\\models\\10.Crack-Detection\\yolov7\\yolo7\\data\\s5s.mp4: 4 cars, 1 bus, 1 truck, 1 traffic light, 1 bench, Done. (53.1ms) Inference, (2.0ms) NMS\n",
      "video 1/1 (100/171) d:\\models\\10.Crack-Detection\\yolov7\\yolo7\\data\\s5s.mp4: 3 cars, 1 truck, 1 traffic light, 1 bench, Done. (51.1ms) Inference, (0.0ms) NMS\n",
      "video 1/1 (101/171) d:\\models\\10.Crack-Detection\\yolov7\\yolo7\\data\\s5s.mp4: 2 cars, 1 bus, 1 truck, 1 bench, Done. (53.1ms) Inference, (1.0ms) NMS\n",
      "video 1/1 (102/171) d:\\models\\10.Crack-Detection\\yolov7\\yolo7\\data\\s5s.mp4: 3 cars, 1 truck, 1 traffic light, 1 bench, Done. (48.1ms) Inference, (0.0ms) NMS\n",
      "video 1/1 (103/171) d:\\models\\10.Crack-Detection\\yolov7\\yolo7\\data\\s5s.mp4: 2 cars, 1 bus, 1 traffic light, 1 bench, Done. (50.1ms) Inference, (0.0ms) NMS\n",
      "video 1/1 (104/171) d:\\models\\10.Crack-Detection\\yolov7\\yolo7\\data\\s5s.mp4: 2 cars, 1 bus, 1 bench, Done. (51.0ms) Inference, (0.0ms) NMS\n",
      "video 1/1 (105/171) d:\\models\\10.Crack-Detection\\yolov7\\yolo7\\data\\s5s.mp4: 2 cars, 1 bus, Done. (52.0ms) Inference, (0.0ms) NMS\n",
      "video 1/1 (106/171) d:\\models\\10.Crack-Detection\\yolov7\\yolo7\\data\\s5s.mp4: 3 cars, 3 buss, 1 bench, Done. (50.2ms) Inference, (1.0ms) NMS\n",
      "video 1/1 (107/171) d:\\models\\10.Crack-Detection\\yolov7\\yolo7\\data\\s5s.mp4: 4 cars, 1 bus, Done. (51.1ms) Inference, (0.0ms) NMS\n",
      "video 1/1 (108/171) d:\\models\\10.Crack-Detection\\yolov7\\yolo7\\data\\s5s.mp4: 4 cars, Done. (47.0ms) Inference, (1.0ms) NMS\n",
      "video 1/1 (109/171) d:\\models\\10.Crack-Detection\\yolov7\\yolo7\\data\\s5s.mp4: 4 cars, Done. (49.2ms) Inference, (1.0ms) NMS\n",
      "video 1/1 (110/171) d:\\models\\10.Crack-Detection\\yolov7\\yolo7\\data\\s5s.mp4: 3 cars, 1 bus, 1 truck, Done. (47.9ms) Inference, (1.0ms) NMS\n",
      "video 1/1 (111/171) d:\\models\\10.Crack-Detection\\yolov7\\yolo7\\data\\s5s.mp4: 3 cars, 1 bus, 1 bench, Done. (49.0ms) Inference, (0.0ms) NMS\n",
      "video 1/1 (112/171) d:\\models\\10.Crack-Detection\\yolov7\\yolo7\\data\\s5s.mp4: 3 cars, 1 bus, 1 bench, Done. (51.4ms) Inference, (1.0ms) NMS\n",
      "video 1/1 (113/171) d:\\models\\10.Crack-Detection\\yolov7\\yolo7\\data\\s5s.mp4: 3 cars, 1 truck, 1 bench, Done. (52.5ms) Inference, (1.0ms) NMS\n",
      "video 1/1 (114/171) d:\\models\\10.Crack-Detection\\yolov7\\yolo7\\data\\s5s.mp4: 3 cars, 1 truck, Done. (49.0ms) Inference, (0.0ms) NMS\n",
      "video 1/1 (115/171) d:\\models\\10.Crack-Detection\\yolov7\\yolo7\\data\\s5s.mp4: 3 cars, 1 truck, Done. (51.2ms) Inference, (1.0ms) NMS\n",
      "video 1/1 (116/171) d:\\models\\10.Crack-Detection\\yolov7\\yolo7\\data\\s5s.mp4: 1 person, 4 cars, 1 bus, Done. (49.0ms) Inference, (1.0ms) NMS\n",
      "video 1/1 (117/171) d:\\models\\10.Crack-Detection\\yolov7\\yolo7\\data\\s5s.mp4: 3 cars, 1 bus, Done. (56.8ms) Inference, (1.0ms) NMS\n",
      "video 1/1 (118/171) d:\\models\\10.Crack-Detection\\yolov7\\yolo7\\data\\s5s.mp4: 3 cars, Done. (48.6ms) Inference, (1.0ms) NMS\n",
      "video 1/1 (119/171) d:\\models\\10.Crack-Detection\\yolov7\\yolo7\\data\\s5s.mp4: 1 person, 3 cars, 1 truck, Done. (51.5ms) Inference, (0.0ms) NMS\n",
      "video 1/1 (120/171) d:\\models\\10.Crack-Detection\\yolov7\\yolo7\\data\\s5s.mp4: 1 person, 4 cars, 1 truck, Done. (50.0ms) Inference, (1.0ms) NMS\n",
      "video 1/1 (121/171) d:\\models\\10.Crack-Detection\\yolov7\\yolo7\\data\\s5s.mp4: 3 cars, 1 truck, Done. (48.3ms) Inference, (1.0ms) NMS\n",
      "video 1/1 (122/171) d:\\models\\10.Crack-Detection\\yolov7\\yolo7\\data\\s5s.mp4: 3 cars, 1 bus, Done. (50.5ms) Inference, (0.0ms) NMS\n",
      "video 1/1 (123/171) d:\\models\\10.Crack-Detection\\yolov7\\yolo7\\data\\s5s.mp4: 3 cars, Done. (52.6ms) Inference, (0.0ms) NMS\n",
      "video 1/1 (124/171) d:\\models\\10.Crack-Detection\\yolov7\\yolo7\\data\\s5s.mp4: 3 cars, 1 bus, Done. (49.5ms) Inference, (0.0ms) NMS\n",
      "video 1/1 (125/171) d:\\models\\10.Crack-Detection\\yolov7\\yolo7\\data\\s5s.mp4: 3 cars, Done. (49.2ms) Inference, (1.0ms) NMS\n",
      "video 1/1 (126/171) d:\\models\\10.Crack-Detection\\yolov7\\yolo7\\data\\s5s.mp4: 3 cars, Done. (50.0ms) Inference, (0.0ms) NMS\n",
      "video 1/1 (127/171) d:\\models\\10.Crack-Detection\\yolov7\\yolo7\\data\\s5s.mp4: 4 cars, 1 bus, Done. (50.5ms) Inference, (0.0ms) NMS\n",
      "video 1/1 (128/171) d:\\models\\10.Crack-Detection\\yolov7\\yolo7\\data\\s5s.mp4: 2 cars, 1 truck, Done. (52.5ms) Inference, (1.0ms) NMS\n",
      "video 1/1 (129/171) d:\\models\\10.Crack-Detection\\yolov7\\yolo7\\data\\s5s.mp4: 2 cars, 1 truck, Done. (50.0ms) Inference, (1.0ms) NMS\n",
      "video 1/1 (130/171) d:\\models\\10.Crack-Detection\\yolov7\\yolo7\\data\\s5s.mp4: 2 cars, Done. (53.1ms) Inference, (1.0ms) NMS\n",
      "video 1/1 (131/171) d:\\models\\10.Crack-Detection\\yolov7\\yolo7\\data\\s5s.mp4: 3 cars, Done. (48.1ms) Inference, (0.0ms) NMS\n",
      "video 1/1 (132/171) d:\\models\\10.Crack-Detection\\yolov7\\yolo7\\data\\s5s.mp4: 3 cars, Done. (53.0ms) Inference, (1.0ms) NMS\n",
      "video 1/1 (133/171) d:\\models\\10.Crack-Detection\\yolov7\\yolo7\\data\\s5s.mp4: 3 cars, 1 bus, 1 truck, Done. (49.4ms) Inference, (1.0ms) NMS\n",
      "video 1/1 (134/171) d:\\models\\10.Crack-Detection\\yolov7\\yolo7\\data\\s5s.mp4: 3 cars, 1 truck, Done. (57.7ms) Inference, (1.0ms) NMS\n",
      "video 1/1 (135/171) d:\\models\\10.Crack-Detection\\yolov7\\yolo7\\data\\s5s.mp4: 3 cars, 1 truck, Done. (51.0ms) Inference, (1.0ms) NMS\n",
      "video 1/1 (136/171) d:\\models\\10.Crack-Detection\\yolov7\\yolo7\\data\\s5s.mp4: 3 cars, 1 truck, Done. (50.0ms) Inference, (0.0ms) NMS\n",
      "video 1/1 (137/171) d:\\models\\10.Crack-Detection\\yolov7\\yolo7\\data\\s5s.mp4: 3 cars, 1 truck, Done. (47.5ms) Inference, (1.0ms) NMS\n",
      "video 1/1 (138/171) d:\\models\\10.Crack-Detection\\yolov7\\yolo7\\data\\s5s.mp4: 3 cars, Done. (48.0ms) Inference, (0.0ms) NMS\n",
      "video 1/1 (139/171) d:\\models\\10.Crack-Detection\\yolov7\\yolo7\\data\\s5s.mp4: 3 cars, Done. (49.1ms) Inference, (1.0ms) NMS\n",
      "video 1/1 (140/171) d:\\models\\10.Crack-Detection\\yolov7\\yolo7\\data\\s5s.mp4: 3 cars, 1 truck, Done. (52.0ms) Inference, (0.0ms) NMS\n",
      "video 1/1 (141/171) d:\\models\\10.Crack-Detection\\yolov7\\yolo7\\data\\s5s.mp4: 3 cars, 2 trucks, Done. (54.0ms) Inference, (1.0ms) NMS\n",
      "video 1/1 (142/171) d:\\models\\10.Crack-Detection\\yolov7\\yolo7\\data\\s5s.mp4: 3 cars, 2 trucks, Done. (50.4ms) Inference, (1.0ms) NMS\n",
      "video 1/1 (143/171) d:\\models\\10.Crack-Detection\\yolov7\\yolo7\\data\\s5s.mp4: 3 cars, 1 truck, Done. (51.5ms) Inference, (0.0ms) NMS\n",
      "video 1/1 (144/171) d:\\models\\10.Crack-Detection\\yolov7\\yolo7\\data\\s5s.mp4: 3 cars, 1 truck, Done. (51.2ms) Inference, (0.0ms) NMS\n",
      "video 1/1 (145/171) d:\\models\\10.Crack-Detection\\yolov7\\yolo7\\data\\s5s.mp4: 3 cars, 1 truck, Done. (53.1ms) Inference, (0.0ms) NMS\n",
      "video 1/1 (146/171) d:\\models\\10.Crack-Detection\\yolov7\\yolo7\\data\\s5s.mp4: 3 cars, Done. (48.1ms) Inference, (1.0ms) NMS\n",
      "video 1/1 (147/171) d:\\models\\10.Crack-Detection\\yolov7\\yolo7\\data\\s5s.mp4: 3 cars, Done. (55.0ms) Inference, (1.0ms) NMS\n",
      "video 1/1 (148/171) d:\\models\\10.Crack-Detection\\yolov7\\yolo7\\data\\s5s.mp4: 4 cars, 1 traffic light, Done. (58.0ms) Inference, (1.0ms) NMS\n",
      "video 1/1 (149/171) d:\\models\\10.Crack-Detection\\yolov7\\yolo7\\data\\s5s.mp4: 2 cars, 1 truck, Done. (60.9ms) Inference, (0.0ms) NMS\n",
      "video 1/1 (150/171) d:\\models\\10.Crack-Detection\\yolov7\\yolo7\\data\\s5s.mp4: 4 cars, 1 truck, Done. (49.5ms) Inference, (0.0ms) NMS\n",
      "video 1/1 (151/171) d:\\models\\10.Crack-Detection\\yolov7\\yolo7\\data\\s5s.mp4: 3 cars, 1 truck, Done. (51.5ms) Inference, (0.0ms) NMS\n",
      "video 1/1 (152/171) d:\\models\\10.Crack-Detection\\yolov7\\yolo7\\data\\s5s.mp4: 2 cars, 1 bus, 1 truck, Done. (51.5ms) Inference, (0.0ms) NMS\n",
      "video 1/1 (153/171) d:\\models\\10.Crack-Detection\\yolov7\\yolo7\\data\\s5s.mp4: 2 cars, 1 bus, 1 truck, Done. (49.4ms) Inference, (1.0ms) NMS\n",
      "video 1/1 (154/171) d:\\models\\10.Crack-Detection\\yolov7\\yolo7\\data\\s5s.mp4: 3 cars, 2 trucks, Done. (50.0ms) Inference, (1.0ms) NMS\n",
      "video 1/1 (155/171) d:\\models\\10.Crack-Detection\\yolov7\\yolo7\\data\\s5s.mp4: 1 person, 3 cars, 2 trucks, 1 dog, Done. (49.5ms) Inference, (0.0ms) NMS\n",
      "video 1/1 (156/171) d:\\models\\10.Crack-Detection\\yolov7\\yolo7\\data\\s5s.mp4: 1 person, 3 cars, 1 truck, Done. (46.5ms) Inference, (1.0ms) NMS\n",
      "video 1/1 (157/171) d:\\models\\10.Crack-Detection\\yolov7\\yolo7\\data\\s5s.mp4: 1 person, 2 cars, 1 truck, Done. (53.4ms) Inference, (0.0ms) NMS\n",
      "video 1/1 (158/171) d:\\models\\10.Crack-Detection\\yolov7\\yolo7\\data\\s5s.mp4: 1 person, 3 cars, 1 truck, Done. (49.2ms) Inference, (0.0ms) NMS\n",
      "video 1/1 (159/171) d:\\models\\10.Crack-Detection\\yolov7\\yolo7\\data\\s5s.mp4: 1 person, 2 cars, 1 truck, Done. (61.3ms) Inference, (1.0ms) NMS\n",
      "video 1/1 (160/171) d:\\models\\10.Crack-Detection\\yolov7\\yolo7\\data\\s5s.mp4: 2 persons, 2 cars, 1 truck, Done. (59.1ms) Inference, (1.0ms) NMS\n",
      "video 1/1 (161/171) d:\\models\\10.Crack-Detection\\yolov7\\yolo7\\data\\s5s.mp4: 2 persons, 2 cars, 1 truck, Done. (50.0ms) Inference, (0.0ms) NMS\n",
      "video 1/1 (162/171) d:\\models\\10.Crack-Detection\\yolov7\\yolo7\\data\\s5s.mp4: 1 person, 2 cars, 1 truck, Done. (50.1ms) Inference, (1.0ms) NMS\n",
      "video 1/1 (163/171) d:\\models\\10.Crack-Detection\\yolov7\\yolo7\\data\\s5s.mp4: 1 person, 2 cars, Done. (50.0ms) Inference, (0.0ms) NMS\n",
      "video 1/1 (164/171) d:\\models\\10.Crack-Detection\\yolov7\\yolo7\\data\\s5s.mp4: 1 person, 2 cars, 1 bus, 1 truck, Done. (48.0ms) Inference, (1.0ms) NMS\n",
      "video 1/1 (165/171) d:\\models\\10.Crack-Detection\\yolov7\\yolo7\\data\\s5s.mp4: 1 person, 2 cars, 1 truck, Done. (53.8ms) Inference, (0.0ms) NMS\n",
      "video 1/1 (166/171) d:\\models\\10.Crack-Detection\\yolov7\\yolo7\\data\\s5s.mp4: 2 persons, 2 cars, Done. (51.0ms) Inference, (1.0ms) NMS\n",
      "video 1/1 (167/171) d:\\models\\10.Crack-Detection\\yolov7\\yolo7\\data\\s5s.mp4: 2 persons, 2 cars, Done. (50.4ms) Inference, (1.0ms) NMS\n",
      "video 1/1 (168/171) d:\\models\\10.Crack-Detection\\yolov7\\yolo7\\data\\s5s.mp4: 2 cars, 1 truck, Done. (50.4ms) Inference, (1.0ms) NMS\n",
      "video 1/1 (169/171) d:\\models\\10.Crack-Detection\\yolov7\\yolo7\\data\\s5s.mp4: 2 cars, 1 truck, 1 traffic light, Done. (54.0ms) Inference, (1.0ms) NMS\n",
      "video 1/1 (170/171) d:\\models\\10.Crack-Detection\\yolov7\\yolo7\\data\\s5s.mp4: 2 cars, 1 truck, 1 traffic light, Done. (54.6ms) Inference, (0.0ms) NMS\n",
      "video 1/1 (171/171) d:\\models\\10.Crack-Detection\\yolov7\\yolo7\\data\\s5s.mp4: 1 car, 1 truck, 1 traffic light, Done. (48.0ms) Inference, (1.0ms) NMS\n",
      "Done. (11.597s)\n"
     ]
    },
    {
     "name": "stderr",
     "output_type": "stream",
     "text": [
      "YOLOR  v0.1-128-ga207844 torch 2.1.1+cpu CPU\n",
      "\n",
      "d:\\Programs\\anaconda3\\envs\\yolo5p8\\lib\\site-packages\\torch\\functional.py:504: UserWarning: torch.meshgrid: in an upcoming release, it will be required to pass the indexing argument. (Triggered internally at C:\\actions-runner\\_work\\pytorch\\pytorch\\builder\\windows\\pytorch\\aten\\src\\ATen\\native\\TensorShape.cpp:3527.)\n",
      "  return _VF.meshgrid(tensors, **kwargs)  # type: ignore[attr-defined]\n",
      "Model Summary: 200 layers, 6219709 parameters, 229245 gradients, 13.7 GFLOPS\n"
     ]
    }
   ],
   "source": [
    "!python detect.py --source data/s5s.mp4 --name carsVideo --weights yolov7-tiny.pt"
   ]
  },
  {
   "cell_type": "code",
   "execution_count": 31,
   "metadata": {},
   "outputs": [
    {
     "name": "stdout",
     "output_type": "stream",
     "text": [
      "^C\n"
     ]
    },
    {
     "name": "stdout",
     "output_type": "stream",
     "text": [
      "Namespace(agnostic_nms=False, augment=False, classes=None, conf_thres=0.25, device='', exist_ok=False, img_size=640, iou_thres=0.45, name='exp', no_trace=False, nosave=False, project='runs/detect', save_conf=False, save_txt=False, source='data/s5s.mp4', update=False, view_img=False, weights=['yolov7-tiny.pt'])\n",
      "Fusing layers... \n",
      " Convert model to Traced-model... \n",
      " traced_script_module saved! \n",
      " model is traced! \n",
      "\n",
      "video 1/1 (1/171) d:\\models\\10.Crack-Detection\\yolov7\\yolo7\\data\\s5s.mp4: 3 cars, 1 truck, 1 traffic light, 1 bench, Done. (88.9ms) Inference, (1.0ms) NMS\n",
      "video 1/1 (2/171) d:\\models\\10.Crack-Detection\\yolov7\\yolo7\\data\\s5s.mp4: 3 cars, 1 truck, 1 traffic light, 1 bench, Done. (59.7ms) Inference, (0.0ms) NMS\n",
      "video 1/1 (3/171) d:\\models\\10.Crack-Detection\\yolov7\\yolo7\\data\\s5s.mp4: 2 cars, 1 truck, 1 traffic light, 1 bench, Done. (50.0ms) Inference, (1.0ms) NMS\n",
      "video 1/1 (4/171) d:\\models\\10.Crack-Detection\\yolov7\\yolo7\\data\\s5s.mp4: 2 cars, 1 truck, 1 traffic light, 2 benchs, Done. (54.0ms) Inference, (1.0ms) NMS\n",
      "video 1/1 (5/171) d:\\models\\10.Crack-Detection\\yolov7\\yolo7\\data\\s5s.mp4: 2 cars, 1 truck, 1 traffic light, 1 bench, Done. (49.8ms) Inference, (0.0ms) NMS\n",
      "video 1/1 (6/171) d:\\models\\10.Crack-Detection\\yolov7\\yolo7\\data\\s5s.mp4: 2 cars, 2 trucks, 1 traffic light, 1 bench, Done. (51.3ms) Inference, (0.0ms) NMS\n",
      "video 1/1 (7/171) d:\\models\\10.Crack-Detection\\yolov7\\yolo7\\data\\s5s.mp4: 2 cars, 2 trucks, 1 bench, Done. (49.0ms) Inference, (1.0ms) NMS\n",
      "video 1/1 (8/171) d:\\models\\10.Crack-Detection\\yolov7\\yolo7\\data\\s5s.mp4: 1 car, 2 trucks, 1 traffic light, 1 bench, Done. (44.5ms) Inference, (1.0ms) NMS\n",
      "video 1/1 (9/171) d:\\models\\10.Crack-Detection\\yolov7\\yolo7\\data\\s5s.mp4: 1 car, 2 trucks, 1 bench, Done. (46.6ms) Inference, (1.0ms) NMS\n",
      "video 1/1 (10/171) d:\\models\\10.Crack-Detection\\yolov7\\yolo7\\data\\s5s.mp4: 1 car, 2 trucks, 1 bench, Done. (44.5ms) Inference, (1.0ms) NMS\n",
      "video 1/1 (11/171) d:\\models\\10.Crack-Detection\\yolov7\\yolo7\\data\\s5s.mp4: 1 car, 2 trucks, 1 bench, Done. (47.0ms) Inference, (1.0ms) NMS\n",
      "video 1/1 (12/171) d:\\models\\10.Crack-Detection\\yolov7\\yolo7\\data\\s5s.mp4: 1 car, 2 trucks, 1 traffic light, 1 bench, Done. (45.0ms) Inference, (1.0ms) NMS\n",
      "video 1/1 (13/171) d:\\models\\10.Crack-Detection\\yolov7\\yolo7\\data\\s5s.mp4: 1 car, 2 trucks, 1 traffic light, 1 bench, Done. (47.6ms) Inference, (0.0ms) NMS\n",
      "video 1/1 (14/171) d:\\models\\10.Crack-Detection\\yolov7\\yolo7\\data\\s5s.mp4: 1 car, 2 trucks, 1 bench, Done. (45.0ms) Inference, (1.0ms) NMS\n",
      "video 1/1 (15/171) d:\\models\\10.Crack-Detection\\yolov7\\yolo7\\data\\s5s.mp4: 1 car, 2 trucks, 1 bench, Done. (44.2ms) Inference, (1.0ms) NMS\n",
      "video 1/1 (16/171) d:\\models\\10.Crack-Detection\\yolov7\\yolo7\\data\\s5s.mp4: 1 car, 2 trucks, 1 bench, Done. (45.8ms) Inference, (1.0ms) NMS\n",
      "video 1/1 (17/171) d:\\models\\10.Crack-Detection\\yolov7\\yolo7\\data\\s5s.mp4: 1 car, 1 truck, 1 bench, Done. (46.0ms) Inference, (0.0ms) NMS\n",
      "video 1/1 (18/171) d:\\models\\10.Crack-Detection\\yolov7\\yolo7\\data\\s5s.mp4: 1 car, 2 trucks, 1 bench, Done. (43.6ms) Inference, (1.0ms) NMS\n",
      "video 1/1 (19/171) d:\\models\\10.Crack-Detection\\yolov7\\yolo7\\data\\s5s.mp4: 1 car, 1 truck, 1 bench, Done. (45.0ms) Inference, (0.0ms) NMS\n",
      "video 1/1 (20/171) d:\\models\\10.Crack-Detection\\yolov7\\yolo7\\data\\s5s.mp4: 1 car, 2 trucks, 1 bench, Done. (45.2ms) Inference, (0.0ms) NMS\n",
      "video 1/1 (21/171) d:\\models\\10.Crack-Detection\\yolov7\\yolo7\\data\\s5s.mp4: 3 cars, 2 trucks, 1 bench, Done. (47.0ms) Inference, (1.0ms) NMS\n",
      "video 1/1 (22/171) d:\\models\\10.Crack-Detection\\yolov7\\yolo7\\data\\s5s.mp4: 1 car, 2 trucks, 1 bench, Done. (44.0ms) Inference, (1.0ms) NMS\n",
      "video 1/1 (23/171) d:\\models\\10.Crack-Detection\\yolov7\\yolo7\\data\\s5s.mp4: 1 car, 2 trucks, 1 bench, Done. (46.5ms) Inference, (0.0ms) NMS\n",
      "video 1/1 (24/171) d:\\models\\10.Crack-Detection\\yolov7\\yolo7\\data\\s5s.mp4: 2 cars, 2 trucks, 1 bench, Done. (46.2ms) Inference, (0.0ms) NMS\n",
      "video 1/1 (25/171) d:\\models\\10.Crack-Detection\\yolov7\\yolo7\\data\\s5s.mp4: 1 car, 2 trucks, 1 bench, Done. (45.5ms) Inference, (0.0ms) NMS\n",
      "video 1/1 (26/171) d:\\models\\10.Crack-Detection\\yolov7\\yolo7\\data\\s5s.mp4: 2 cars, 2 trucks, 1 bench, Done. (46.0ms) Inference, (0.0ms) NMS\n",
      "video 1/1 (27/171) d:\\models\\10.Crack-Detection\\yolov7\\yolo7\\data\\s5s.mp4: 2 cars, 3 trucks, 1 bench, Done. (45.0ms) Inference, (1.0ms) NMS\n",
      "video 1/1 (28/171) d:\\models\\10.Crack-Detection\\yolov7\\yolo7\\data\\s5s.mp4: 2 cars, 2 trucks, 1 bench, Done. (46.8ms) Inference, (1.0ms) NMS\n",
      "video 1/1 (29/171) d:\\models\\10.Crack-Detection\\yolov7\\yolo7\\data\\s5s.mp4: 3 cars, 2 trucks, 1 bench, Done. (46.0ms) Inference, (0.0ms) NMS\n",
      "video 1/1 (30/171) d:\\models\\10.Crack-Detection\\yolov7\\yolo7\\data\\s5s.mp4: 2 cars, 2 trucks, 1 bench, Done. (44.5ms) Inference, (0.0ms) NMS\n",
      "video 1/1 (31/171) d:\\models\\10.Crack-Detection\\yolov7\\yolo7\\data\\s5s.mp4: 2 cars, 2 trucks, 1 bench, Done. (45.0ms) Inference, (1.0ms) NMS\n",
      "video 1/1 (32/171) d:\\models\\10.Crack-Detection\\yolov7\\yolo7\\data\\s5s.mp4: 2 cars, 1 truck, 1 bench, Done. (45.0ms) Inference, (1.0ms) NMS\n",
      "video 1/1 (33/171) d:\\models\\10.Crack-Detection\\yolov7\\yolo7\\data\\s5s.mp4: 2 cars, 1 bench, Done. (45.5ms) Inference, (0.0ms) NMS\n",
      "video 1/1 (34/171) d:\\models\\10.Crack-Detection\\yolov7\\yolo7\\data\\s5s.mp4: 2 cars, 1 bench, Done. (45.0ms) Inference, (0.0ms) NMS\n",
      "video 1/1 (35/171) d:\\models\\10.Crack-Detection\\yolov7\\yolo7\\data\\s5s.mp4: 2 cars, 1 truck, 1 bench, Done. (45.1ms) Inference, (1.0ms) NMS\n",
      "video 1/1 (36/171) d:\\models\\10.Crack-Detection\\yolov7\\yolo7\\data\\s5s.mp4: 3 cars, 1 bench, Done. (45.0ms) Inference, (1.0ms) NMS\n",
      "video 1/1 (37/171) d:\\models\\10.Crack-Detection\\yolov7\\yolo7\\data\\s5s.mp4: 3 cars, 1 bench, Done. (56.0ms) Inference, (1.0ms) NMS\n",
      "video 1/1 (38/171) d:\\models\\10.Crack-Detection\\yolov7\\yolo7\\data\\s5s.mp4: 3 cars, 1 bench, Done. (53.7ms) Inference, (1.0ms) NMS\n",
      "video 1/1 (39/171) d:\\models\\10.Crack-Detection\\yolov7\\yolo7\\data\\s5s.mp4: 3 cars, 1 bench, Done. (50.0ms) Inference, (1.0ms) NMS\n",
      "video 1/1 (40/171) d:\\models\\10.Crack-Detection\\yolov7\\yolo7\\data\\s5s.mp4: 3 cars, 1 bench, Done. (50.0ms) Inference, (1.0ms) NMS\n",
      "video 1/1 (41/171) d:\\models\\10.Crack-Detection\\yolov7\\yolo7\\data\\s5s.mp4: 4 cars, 1 bench, Done. (48.5ms) Inference, (1.0ms) NMS\n",
      "video 1/1 (42/171) d:\\models\\10.Crack-Detection\\yolov7\\yolo7\\data\\s5s.mp4: 3 cars, 1 bench, Done. (53.0ms) Inference, (0.0ms) NMS\n",
      "video 1/1 (43/171) d:\\models\\10.Crack-Detection\\yolov7\\yolo7\\data\\s5s.mp4: 2 cars, 1 bench, Done. (50.0ms) Inference, (1.0ms) NMS\n",
      "video 1/1 (44/171) d:\\models\\10.Crack-Detection\\yolov7\\yolo7\\data\\s5s.mp4: 2 cars, 1 bench, Done. (57.5ms) Inference, (0.0ms) NMS\n",
      "video 1/1 (45/171) d:\\models\\10.Crack-Detection\\yolov7\\yolo7\\data\\s5s.mp4: 2 cars, 1 bench, Done. (50.0ms) Inference, (1.0ms) NMS\n",
      "video 1/1 (46/171) d:\\models\\10.Crack-Detection\\yolov7\\yolo7\\data\\s5s.mp4: 2 cars, 1 bench, Done. (52.1ms) Inference, (0.0ms) NMS\n",
      "video 1/1 (47/171) d:\\models\\10.Crack-Detection\\yolov7\\yolo7\\data\\s5s.mp4: 2 cars, 1 bus, 1 bench, Done. (50.5ms) Inference, (0.0ms) NMS\n",
      "video 1/1 (48/171) d:\\models\\10.Crack-Detection\\yolov7\\yolo7\\data\\s5s.mp4: 3 cars, 1 bench, Done. (58.8ms) Inference, (0.0ms) NMS\n",
      "video 1/1 (49/171) d:\\models\\10.Crack-Detection\\yolov7\\yolo7\\data\\s5s.mp4: 2 cars, 1 bus, 1 bench, Done. (51.5ms) Inference, (1.0ms) NMS\n",
      "video 1/1 (50/171) d:\\models\\10.Crack-Detection\\yolov7\\yolo7\\data\\s5s.mp4: 2 cars, 1 bench, Done. (50.5ms) Inference, (0.0ms) NMS\n",
      "video 1/1 (51/171) d:\\models\\10.Crack-Detection\\yolov7\\yolo7\\data\\s5s.mp4: 2 cars, 1 bus, 1 bench, Done. (50.0ms) Inference, (0.0ms) NMS\n",
      "video 1/1 (52/171) d:\\models\\10.Crack-Detection\\yolov7\\yolo7\\data\\s5s.mp4: 2 cars, 2 buss, 1 traffic light, 1 bench, Done. (52.0ms) Inference, (1.0ms) NMS\n",
      "video 1/1 (53/171) d:\\models\\10.Crack-Detection\\yolov7\\yolo7\\data\\s5s.mp4: 2 cars, 2 buss, 1 bench, Done. (51.5ms) Inference, (1.0ms) NMS\n",
      "video 1/1 (54/171) d:\\models\\10.Crack-Detection\\yolov7\\yolo7\\data\\s5s.mp4: 2 cars, 1 bus, 1 bench, Done. (51.3ms) Inference, (0.0ms) NMS\n",
      "video 1/1 (55/171) d:\\models\\10.Crack-Detection\\yolov7\\yolo7\\data\\s5s.mp4: 2 cars, 1 bus, 1 bench, Done. (50.0ms) Inference, (1.0ms) NMS\n",
      "video 1/1 (56/171) d:\\models\\10.Crack-Detection\\yolov7\\yolo7\\data\\s5s.mp4: 2 cars, 2 buss, 2 benchs, Done. (54.0ms) Inference, (1.0ms) NMS\n",
      "video 1/1 (57/171) d:\\models\\10.Crack-Detection\\yolov7\\yolo7\\data\\s5s.mp4: 2 cars, 3 buss, 2 benchs, Done. (51.2ms) Inference, (1.0ms) NMS\n",
      "video 1/1 (58/171) d:\\models\\10.Crack-Detection\\yolov7\\yolo7\\data\\s5s.mp4: 2 cars, 3 buss, 1 traffic light, 2 benchs, Done. (51.8ms) Inference, (1.0ms) NMS\n",
      "video 1/1 (59/171) d:\\models\\10.Crack-Detection\\yolov7\\yolo7\\data\\s5s.mp4: 2 cars, 1 bus, 2 benchs, Done. (55.0ms) Inference, (0.0ms) NMS\n",
      "video 1/1 (60/171) d:\\models\\10.Crack-Detection\\yolov7\\yolo7\\data\\s5s.mp4: 3 cars, 1 traffic light, 2 benchs, Done. (52.2ms) Inference, (0.0ms) NMS\n",
      "video 1/1 (61/171) d:\\models\\10.Crack-Detection\\yolov7\\yolo7\\data\\s5s.mp4: 3 cars, 1 traffic light, 1 bench, Done. (52.0ms) Inference, (0.0ms) NMS\n",
      "video 1/1 (62/171) d:\\models\\10.Crack-Detection\\yolov7\\yolo7\\data\\s5s.mp4: 4 cars, 1 bench, Done. (52.1ms) Inference, (0.0ms) NMS\n",
      "video 1/1 (63/171) d:\\models\\10.Crack-Detection\\yolov7\\yolo7\\data\\s5s.mp4: 3 cars, 1 bench, Done. (55.5ms) Inference, (1.0ms) NMS\n",
      "video 1/1 (64/171) d:\\models\\10.Crack-Detection\\yolov7\\yolo7\\data\\s5s.mp4: 4 cars, 1 bench, Done. (49.0ms) Inference, (1.0ms) NMS\n",
      "video 1/1 (65/171) d:\\models\\10.Crack-Detection\\yolov7\\yolo7\\data\\s5s.mp4: 4 cars, 1 bus, 1 bench, Done. (50.1ms) Inference, (1.0ms) NMS\n",
      "video 1/1 (66/171) d:\\models\\10.Crack-Detection\\yolov7\\yolo7\\data\\s5s.mp4: 4 cars, 1 bus, 1 bench, Done. (49.0ms) Inference, (1.1ms) NMS\n",
      "video 1/1 (67/171) d:\\models\\10.Crack-Detection\\yolov7\\yolo7\\data\\s5s.mp4: 2 cars, 1 bench, Done. (51.6ms) Inference, (0.0ms) NMS\n",
      "video 1/1 (68/171) d:\\models\\10.Crack-Detection\\yolov7\\yolo7\\data\\s5s.mp4: 3 cars, 1 bus, 1 bench, Done. (57.9ms) Inference, (0.0ms) NMS\n",
      "video 1/1 (69/171) d:\\models\\10.Crack-Detection\\yolov7\\yolo7\\data\\s5s.mp4: 2 cars, 1 bench, Done. (52.5ms) Inference, (1.0ms) NMS\n",
      "video 1/1 (70/171) d:\\models\\10.Crack-Detection\\yolov7\\yolo7\\data\\s5s.mp4: 2 cars, 1 bench, Done. (51.7ms) Inference, (0.0ms) NMS\n",
      "video 1/1 (71/171) d:\\models\\10.Crack-Detection\\yolov7\\yolo7\\data\\s5s.mp4: 3 cars, 1 bench, Done. (51.7ms) Inference, (1.0ms) NMS\n",
      "video 1/1 (72/171) d:\\models\\10.Crack-Detection\\yolov7\\yolo7\\data\\s5s.mp4: 2 cars, Done. (51.2ms) Inference, (0.0ms) NMS\n",
      "video 1/1 (73/171) d:\\models\\10.Crack-Detection\\yolov7\\yolo7\\data\\s5s.mp4: 2 cars, Done. (52.0ms) Inference, (0.0ms) NMS\n",
      "video 1/1 (74/171) d:\\models\\10.Crack-Detection\\yolov7\\yolo7\\data\\s5s.mp4: 3 cars, Done. (52.1ms) Inference, (0.0ms) NMS\n",
      "video 1/1 (75/171) d:\\models\\10.Crack-Detection\\yolov7\\yolo7\\data\\s5s.mp4: 4 cars, Done. (50.5ms) Inference, (1.0ms) NMS\n",
      "video 1/1 (76/171) d:\\models\\10.Crack-Detection\\yolov7\\yolo7\\data\\s5s.mp4: 3 cars, Done. (50.0ms) Inference, (0.0ms) NMS\n",
      "video 1/1 (77/171) d:\\models\\10.Crack-Detection\\yolov7\\yolo7\\data\\s5s.mp4: 2 cars, Done. (51.5ms) Inference, (1.0ms) NMS\n",
      "video 1/1 (78/171) d:\\models\\10.Crack-Detection\\yolov7\\yolo7\\data\\s5s.mp4: 2 cars, Done. (54.5ms) Inference, (0.0ms) NMS\n",
      "video 1/1 (79/171) d:\\models\\10.Crack-Detection\\yolov7\\yolo7\\data\\s5s.mp4: 2 cars, Done. (52.0ms) Inference, (0.0ms) NMS\n",
      "video 1/1 (80/171) d:\\models\\10.Crack-Detection\\yolov7\\yolo7\\data\\s5s.mp4: 4 cars, 1 bench, Done. (51.1ms) Inference, (1.0ms) NMS\n",
      "video 1/1 (81/171) d:\\models\\10.Crack-Detection\\yolov7\\yolo7\\data\\s5s.mp4: 3 cars, Done. (50.1ms) Inference, (0.0ms) NMS\n",
      "video 1/1 (82/171) d:\\models\\10.Crack-Detection\\yolov7\\yolo7\\data\\s5s.mp4: 4 cars, Done. (51.0ms) Inference, (2.0ms) NMS\n",
      "video 1/1 (83/171) d:\\models\\10.Crack-Detection\\yolov7\\yolo7\\data\\s5s.mp4: 5 cars, 1 traffic light, Done. (50.5ms) Inference, (1.0ms) NMS\n",
      "video 1/1 (84/171) d:\\models\\10.Crack-Detection\\yolov7\\yolo7\\data\\s5s.mp4: 4 cars, 1 bus, 1 traffic light, Done. (47.5ms) Inference, (1.0ms) NMS\n",
      "video 1/1 (85/171) d:\\models\\10.Crack-Detection\\yolov7\\yolo7\\data\\s5s.mp4: 4 cars, 1 bus, Done. (50.0ms) Inference, (1.0ms) NMS\n",
      "video 1/1 (86/171) d:\\models\\10.Crack-Detection\\yolov7\\yolo7\\data\\s5s.mp4: 4 cars, 1 bus, Done. (56.0ms) Inference, (0.0ms) NMS\n",
      "video 1/1 (87/171) d:\\models\\10.Crack-Detection\\yolov7\\yolo7\\data\\s5s.mp4: 4 cars, 1 bus, 1 bench, Done. (53.0ms) Inference, (0.0ms) NMS\n",
      "video 1/1 (88/171) d:\\models\\10.Crack-Detection\\yolov7\\yolo7\\data\\s5s.mp4: 3 cars, 1 bus, 1 bench, Done. (52.0ms) Inference, (0.0ms) NMS\n",
      "video 1/1 (89/171) d:\\models\\10.Crack-Detection\\yolov7\\yolo7\\data\\s5s.mp4: 4 cars, Done. (55.4ms) Inference, (0.0ms) NMS\n",
      "video 1/1 (90/171) d:\\models\\10.Crack-Detection\\yolov7\\yolo7\\data\\s5s.mp4: 4 cars, Done. (52.5ms) Inference, (1.0ms) NMS\n",
      "video 1/1 (91/171) d:\\models\\10.Crack-Detection\\yolov7\\yolo7\\data\\s5s.mp4: 4 cars, Done. (53.0ms) Inference, (0.0ms) NMS\n",
      "video 1/1 (92/171) d:\\models\\10.Crack-Detection\\yolov7\\yolo7\\data\\s5s.mp4: 4 cars, Done. (50.1ms) Inference, (0.0ms) NMS\n",
      "video 1/1 (93/171) d:\\models\\10.Crack-Detection\\yolov7\\yolo7\\data\\s5s.mp4: 4 cars, 1 bus, 1 bench, Done. (53.1ms) Inference, (1.0ms) NMS\n",
      "video 1/1 (94/171) d:\\models\\10.Crack-Detection\\yolov7\\yolo7\\data\\s5s.mp4: 4 cars, 1 bench, Done. (52.0ms) Inference, (0.0ms) NMS\n",
      "video 1/1 (95/171) d:\\models\\10.Crack-Detection\\yolov7\\yolo7\\data\\s5s.mp4: 4 cars, 1 bench, Done. (52.1ms) Inference, (1.0ms) NMS\n",
      "video 1/1 (96/171) d:\\models\\10.Crack-Detection\\yolov7\\yolo7\\data\\s5s.mp4: 4 cars, Done. (51.1ms) Inference, (0.0ms) NMS\n",
      "video 1/1 (97/171) d:\\models\\10.Crack-Detection\\yolov7\\yolo7\\data\\s5s.mp4: 4 cars, 1 bench, Done. (52.0ms) Inference, (0.0ms) NMS\n",
      "video 1/1 (98/171) d:\\models\\10.Crack-Detection\\yolov7\\yolo7\\data\\s5s.mp4: 3 cars, 1 bus, 1 truck, 1 bench, Done. (52.1ms) Inference, (0.0ms) NMS\n",
      "video 1/1 (99/171) d:\\models\\10.Crack-Detection\\yolov7\\yolo7\\data\\s5s.mp4: 4 cars, 1 bus, 1 truck, 1 traffic light, 1 bench, Done. (53.1ms) Inference, (0.0ms) NMS\n",
      "video 1/1 (100/171) d:\\models\\10.Crack-Detection\\yolov7\\yolo7\\data\\s5s.mp4: 3 cars, 1 truck, 1 traffic light, 1 bench, Done. (50.0ms) Inference, (0.0ms) NMS\n",
      "video 1/1 (101/171) d:\\models\\10.Crack-Detection\\yolov7\\yolo7\\data\\s5s.mp4: 2 cars, 1 bus, 1 truck, 1 bench, Done. (51.3ms) Inference, (0.0ms) NMS\n",
      "video 1/1 (102/171) d:\\models\\10.Crack-Detection\\yolov7\\yolo7\\data\\s5s.mp4: 3 cars, 1 truck, 1 traffic light, 1 bench, Done. (50.1ms) Inference, (1.0ms) NMS\n",
      "video 1/1 (103/171) d:\\models\\10.Crack-Detection\\yolov7\\yolo7\\data\\s5s.mp4: 2 cars, 1 bus, 1 traffic light, 1 bench, Done. (53.0ms) Inference, (0.0ms) NMS\n",
      "video 1/1 (104/171) d:\\models\\10.Crack-Detection\\yolov7\\yolo7\\data\\s5s.mp4: 2 cars, 1 bus, 1 bench, Done. (52.0ms) Inference, (0.0ms) NMS\n",
      "video 1/1 (105/171) d:\\models\\10.Crack-Detection\\yolov7\\yolo7\\data\\s5s.mp4: 2 cars, 1 bus, Done. (53.1ms) Inference, (1.0ms) NMS\n",
      "video 1/1 (106/171) d:\\models\\10.Crack-Detection\\yolov7\\yolo7\\data\\s5s.mp4: 3 cars, 3 buss, 1 bench, Done. (54.1ms) Inference, (0.0ms) NMS\n",
      "video 1/1 (107/171) d:\\models\\10.Crack-Detection\\yolov7\\yolo7\\data\\s5s.mp4: 4 cars, 1 bus, Done. (50.9ms) Inference, (1.0ms) NMS\n",
      "video 1/1 (108/171) d:\\models\\10.Crack-Detection\\yolov7\\yolo7\\data\\s5s.mp4: 4 cars, Done. (52.1ms) Inference, (0.0ms) NMS\n",
      "video 1/1 (109/171) d:\\models\\10.Crack-Detection\\yolov7\\yolo7\\data\\s5s.mp4: 4 cars, Done. (52.7ms) Inference, (1.0ms) NMS\n",
      "video 1/1 (110/171) d:\\models\\10.Crack-Detection\\yolov7\\yolo7\\data\\s5s.mp4: 3 cars, 1 bus, 1 truck, Done. (51.3ms) Inference, (1.0ms) NMS\n",
      "video 1/1 (111/171) d:\\models\\10.Crack-Detection\\yolov7\\yolo7\\data\\s5s.mp4: 3 cars, 1 bus, 1 bench, Done. (53.1ms) Inference, (1.0ms) NMS\n",
      "video 1/1 (112/171) d:\\models\\10.Crack-Detection\\yolov7\\yolo7\\data\\s5s.mp4: 3 cars, 1 bus, 1 bench, Done. (51.0ms) Inference, (0.0ms) NMS\n",
      "video 1/1 (113/171) d:\\models\\10.Crack-Detection\\yolov7\\yolo7\\data\\s5s.mp4: 3 cars, 1 truck, 1 bench, Done. (55.3ms) Inference, (1.0ms) NMS\n",
      "video 1/1 (114/171) d:\\models\\10.Crack-Detection\\yolov7\\yolo7\\data\\s5s.mp4: 3 cars, 1 truck, Done. (50.1ms) Inference, (1.0ms) NMS\n",
      "video 1/1 (115/171) d:\\models\\10.Crack-Detection\\yolov7\\yolo7\\data\\s5s.mp4: 3 cars, 1 truck, Done. (53.0ms) Inference, (0.0ms) NMS\n",
      "video 1/1 (116/171) d:\\models\\10.Crack-Detection\\yolov7\\yolo7\\data\\s5s.mp4: 1 person, 4 cars, 1 bus, Done. (56.0ms) Inference, (0.0ms) NMS\n",
      "video 1/1 (117/171) d:\\models\\10.Crack-Detection\\yolov7\\yolo7\\data\\s5s.mp4: 3 cars, 1 bus, Done. (53.5ms) Inference, (1.0ms) NMS\n",
      "video 1/1 (118/171) d:\\models\\10.Crack-Detection\\yolov7\\yolo7\\data\\s5s.mp4: 3 cars, Done. (53.0ms) Inference, (0.0ms) NMS\n",
      "video 1/1 (119/171) d:\\models\\10.Crack-Detection\\yolov7\\yolo7\\data\\s5s.mp4: 1 person, 3 cars, 1 truck, Done. (49.0ms) Inference, (1.0ms) NMS\n",
      "video 1/1 (120/171) d:\\models\\10.Crack-Detection\\yolov7\\yolo7\\data\\s5s.mp4: 1 person, 4 cars, 1 truck, Done. (51.5ms) Inference, (0.0ms) NMS\n",
      "video 1/1 (121/171) d:\\models\\10.Crack-Detection\\yolov7\\yolo7\\data\\s5s.mp4: 3 cars, 1 truck, Done. (52.0ms) Inference, (0.0ms) NMS\n",
      "video 1/1 (122/171) d:\\models\\10.Crack-Detection\\yolov7\\yolo7\\data\\s5s.mp4: 3 cars, 1 bus, Done. (51.0ms) Inference, (1.0ms) NMS\n",
      "video 1/1 (123/171) d:\\models\\10.Crack-Detection\\yolov7\\yolo7\\data\\s5s.mp4: 3 cars, Done. (50.2ms) Inference, (0.0ms) NMS\n",
      "video 1/1 (124/171) d:\\models\\10.Crack-Detection\\yolov7\\yolo7\\data\\s5s.mp4: 3 cars, 1 bus, Done. (53.0ms) Inference, (1.0ms) NMS\n",
      "video 1/1 (125/171) d:\\models\\10.Crack-Detection\\yolov7\\yolo7\\data\\s5s.mp4: 3 cars, Done. (51.3ms) Inference, (1.0ms) NMS\n",
      "video 1/1 (126/171) d:\\models\\10.Crack-Detection\\yolov7\\yolo7\\data\\s5s.mp4: 3 cars, Done. (51.0ms) Inference, (0.0ms) NMS\n",
      "video 1/1 (127/171) d:\\models\\10.Crack-Detection\\yolov7\\yolo7\\data\\s5s.mp4: 4 cars, 1 bus, Done. (52.0ms) Inference, (0.0ms) NMS\n",
      "video 1/1 (128/171) d:\\models\\10.Crack-Detection\\yolov7\\yolo7\\data\\s5s.mp4: 2 cars, 1 truck, Done. (48.0ms) Inference, (1.0ms) NMS\n",
      "video 1/1 (129/171) d:\\models\\10.Crack-Detection\\yolov7\\yolo7\\data\\s5s.mp4: 2 cars, 1 truck, Done. (51.1ms) Inference, (1.3ms) NMS\n",
      "video 1/1 (130/171) d:\\models\\10.Crack-Detection\\yolov7\\yolo7\\data\\s5s.mp4: 2 cars, Done. (51.0ms) Inference, (1.0ms) NMS\n",
      "video 1/1 (131/171) d:\\models\\10.Crack-Detection\\yolov7\\yolo7\\data\\s5s.mp4: 3 cars, Done. (50.5ms) Inference, (1.0ms) NMS\n",
      "video 1/1 (132/171) d:\\models\\10.Crack-Detection\\yolov7\\yolo7\\data\\s5s.mp4: 3 cars, Done. (52.0ms) Inference, (1.0ms) NMS\n",
      "video 1/1 (133/171) d:\\models\\10.Crack-Detection\\yolov7\\yolo7\\data\\s5s.mp4: 3 cars, 1 bus, 1 truck, Done. (50.0ms) Inference, (0.0ms) NMS\n",
      "video 1/1 (134/171) d:\\models\\10.Crack-Detection\\yolov7\\yolo7\\data\\s5s.mp4: 3 cars, 1 truck, Done. (51.1ms) Inference, (1.0ms) NMS\n",
      "video 1/1 (135/171) d:\\models\\10.Crack-Detection\\yolov7\\yolo7\\data\\s5s.mp4: 3 cars, 1 truck, Done. (52.2ms) Inference, (1.0ms) NMS\n",
      "video 1/1 (136/171) d:\\models\\10.Crack-Detection\\yolov7\\yolo7\\data\\s5s.mp4: 3 cars, 1 truck, Done. (55.1ms) Inference, (0.0ms) NMS\n",
      "video 1/1 (137/171) d:\\models\\10.Crack-Detection\\yolov7\\yolo7\\data\\s5s.mp4: 3 cars, 1 truck, Done. (51.0ms) Inference, (1.0ms) NMS\n",
      "video 1/1 (138/171) d:\\models\\10.Crack-Detection\\yolov7\\yolo7\\data\\s5s.mp4: 3 cars, Done. (53.0ms) Inference, (0.0ms) NMS\n",
      "video 1/1 (139/171) d:\\models\\10.Crack-Detection\\yolov7\\yolo7\\data\\s5s.mp4: 3 cars, Done. (54.0ms) Inference, (1.0ms) NMS\n",
      "video 1/1 (140/171) d:\\models\\10.Crack-Detection\\yolov7\\yolo7\\data\\s5s.mp4: 3 cars, 1 truck, Done. (57.0ms) Inference, (0.0ms) NMS\n",
      "video 1/1 (141/171) d:\\models\\10.Crack-Detection\\yolov7\\yolo7\\data\\s5s.mp4: 3 cars, 2 trucks, Done. (53.0ms) Inference, (1.0ms) NMS\n",
      "video 1/1 (142/171) d:\\models\\10.Crack-Detection\\yolov7\\yolo7\\data\\s5s.mp4: 3 cars, 2 trucks, Done. (51.4ms) Inference, (1.0ms) NMS\n",
      "video 1/1 (143/171) d:\\models\\10.Crack-Detection\\yolov7\\yolo7\\data\\s5s.mp4: 3 cars, 1 truck, Done. (53.5ms) Inference, (1.0ms) NMS\n",
      "video 1/1 (144/171) d:\\models\\10.Crack-Detection\\yolov7\\yolo7\\data\\s5s.mp4: 3 cars, 1 truck, Done. (49.8ms) Inference, (1.0ms) NMS\n",
      "video 1/1 (145/171) d:\\models\\10.Crack-Detection\\yolov7\\yolo7\\data\\s5s.mp4: 3 cars, 1 truck, Done. (53.0ms) Inference, (1.0ms) NMS\n",
      "video 1/1 (146/171) d:\\models\\10.Crack-Detection\\yolov7\\yolo7\\data\\s5s.mp4: 3 cars, Done. (51.0ms) Inference, (1.0ms) NMS\n",
      "video 1/1 (147/171) d:\\models\\10.Crack-Detection\\yolov7\\yolo7\\data\\s5s.mp4: 3 cars, Done. (52.0ms) Inference, (1.0ms) NMS\n",
      "video 1/1 (148/171) d:\\models\\10.Crack-Detection\\yolov7\\yolo7\\data\\s5s.mp4: 4 cars, 1 traffic light, Done. (53.0ms) Inference, (0.0ms) NMS\n",
      "video 1/1 (149/171) d:\\models\\10.Crack-Detection\\yolov7\\yolo7\\data\\s5s.mp4: 2 cars, 1 truck, Done. (52.0ms) Inference, (0.0ms) NMS\n",
      "video 1/1 (150/171) d:\\models\\10.Crack-Detection\\yolov7\\yolo7\\data\\s5s.mp4: 4 cars, 1 truck, Done. (50.0ms) Inference, (1.0ms) NMS\n",
      "video 1/1 (151/171) d:\\models\\10.Crack-Detection\\yolov7\\yolo7\\data\\s5s.mp4: 3 cars, 1 truck, Done. (56.0ms) Inference, (0.0ms) NMS\n",
      "video 1/1 (152/171) d:\\models\\10.Crack-Detection\\yolov7\\yolo7\\data\\s5s.mp4: 2 cars, 1 bus, 1 truck, Done. (51.3ms) Inference, (1.0ms) NMS\n",
      "video 1/1 (153/171) d:\\models\\10.Crack-Detection\\yolov7\\yolo7\\data\\s5s.mp4: 2 cars, 1 bus, 1 truck, Done. (52.6ms) Inference, (0.0ms) NMS\n",
      "video 1/1 (154/171) d:\\models\\10.Crack-Detection\\yolov7\\yolo7\\data\\s5s.mp4: 3 cars, 2 trucks, Done. (50.0ms) Inference, (0.0ms) NMS\n",
      "video 1/1 (155/171) d:\\models\\10.Crack-Detection\\yolov7\\yolo7\\data\\s5s.mp4: 1 person, 3 cars, 2 trucks, 1 dog, Done. (51.0ms) Inference, (1.0ms) NMS\n",
      "video 1/1 (156/171) d:\\models\\10.Crack-Detection\\yolov7\\yolo7\\data\\s5s.mp4: 1 person, 3 cars, 1 truck, Done. (49.5ms) Inference, (0.0ms) NMS\n",
      "video 1/1 (157/171) d:\\models\\10.Crack-Detection\\yolov7\\yolo7\\data\\s5s.mp4: 1 person, 2 cars, 1 truck, Done. (62.0ms) Inference, (1.0ms) NMS\n",
      "video 1/1 (158/171) d:\\models\\10.Crack-Detection\\yolov7\\yolo7\\data\\s5s.mp4: 1 person, 3 cars, 1 truck, Done. (53.3ms) Inference, (0.0ms) NMS\n",
      "video 1/1 (159/171) d:\\models\\10.Crack-Detection\\yolov7\\yolo7\\data\\s5s.mp4: 1 person, 2 cars, 1 truck, Done. (51.5ms) Inference, (1.0ms) NMS\n",
      "video 1/1 (160/171) d:\\models\\10.Crack-Detection\\yolov7\\yolo7\\data\\s5s.mp4: 2 persons, 2 cars, 1 truck, Done. (52.1ms) Inference, (0.0ms) NMS\n",
      "video 1/1 (161/171) d:\\models\\10.Crack-Detection\\yolov7\\yolo7\\data\\s5s.mp4: 2 persons, 2 cars, 1 truck, Done. (51.0ms) Inference, (0.0ms) NMS\n",
      "video 1/1 (162/171) d:\\models\\10.Crack-Detection\\yolov7\\yolo7\\data\\s5s.mp4: 1 person, 2 cars, 1 truck, Done. (54.7ms) Inference, (0.0ms) NMS\n",
      "video 1/1 (163/171) d:\\models\\10.Crack-Detection\\yolov7\\yolo7\\data\\s5s.mp4: 1 person, 2 cars, Done. (53.3ms) Inference, (1.0ms) NMS\n",
      "video 1/1 (164/171) d:\\models\\10.Crack-Detection\\yolov7\\yolo7\\data\\s5s.mp4: 1 person, 2 cars, 1 bus, 1 truck, Done. (51.0ms) Inference, (1.0ms) NMS\n",
      "video 1/1 (165/171) d:\\models\\10.Crack-Detection\\yolov7\\yolo7\\data\\s5s.mp4: 1 person, 2 cars, 1 truck, Done. (51.3ms) Inference, (2.0ms) NMS\n",
      "video 1/1 (166/171) d:\\models\\10.Crack-Detection\\yolov7\\yolo7\\data\\s5s.mp4: 2 persons, 2 cars, Done. (52.7ms) Inference, (0.9ms) NMS\n",
      "video 1/1 (167/171) d:\\models\\10.Crack-Detection\\yolov7\\yolo7\\data\\s5s.mp4: 2 persons, 2 cars, Done. (54.2ms) Inference, (1.0ms) NMS\n",
      "video 1/1 (168/171) d:\\models\\10.Crack-Detection\\yolov7\\yolo7\\data\\s5s.mp4: 2 cars, 1 truck, Done. (50.9ms) Inference, (0.0ms) NMS\n",
      "video 1/1 (169/171) d:\\models\\10.Crack-Detection\\yolov7\\yolo7\\data\\s5s.mp4: 2 cars, 1 truck, 1 traffic light, Done. (51.0ms) Inference, (1.0ms) NMS\n",
      "video 1/1 (170/171) d:\\models\\10.Crack-Detection\\yolov7\\yolo7\\data\\s5s.mp4: 2 cars, 1 truck, 1 traffic light, Done. (52.0ms) Inference, (0.0ms) NMS\n",
      "video 1/1 (171/171) d:\\models\\10.Crack-Detection\\yolov7\\yolo7\\data\\s5s.mp4: 1 car, 1 truck, 1 traffic light, Done. (49.0ms) Inference, (1.0ms) NMS\n",
      "Done. (11.401s)\n"
     ]
    },
    {
     "name": "stderr",
     "output_type": "stream",
     "text": [
      "YOLOR  v0.1-128-ga207844 torch 2.1.1+cpu CPU\n",
      "\n",
      "d:\\Programs\\anaconda3\\envs\\yolo5p8\\lib\\site-packages\\torch\\functional.py:504: UserWarning: torch.meshgrid: in an upcoming release, it will be required to pass the indexing argument. (Triggered internally at C:\\actions-runner\\_work\\pytorch\\pytorch\\builder\\windows\\pytorch\\aten\\src\\ATen\\native\\TensorShape.cpp:3527.)\n",
      "  return _VF.meshgrid(tensors, **kwargs)  # type: ignore[attr-defined]\n",
      "Model Summary: 200 layers, 6219709 parameters, 229245 gradients, 13.7 GFLOPS\n"
     ]
    }
   ],
   "source": [
    "!python detect.py --source data/s5s.mp4 --weights yolov7-tiny.pt"
   ]
  },
  {
   "cell_type": "code",
   "execution_count": null,
   "metadata": {},
   "outputs": [],
   "source": []
  }
 ],
 "metadata": {
  "kernelspec": {
   "display_name": "yolo5p8",
   "language": "python",
   "name": "yolo5p8"
  },
  "language_info": {
   "codemirror_mode": {
    "name": "ipython",
    "version": 3
   },
   "file_extension": ".py",
   "mimetype": "text/x-python",
   "name": "python",
   "nbconvert_exporter": "python",
   "pygments_lexer": "ipython3",
   "version": "3.8.18"
  }
 },
 "nbformat": 4,
 "nbformat_minor": 2
}
